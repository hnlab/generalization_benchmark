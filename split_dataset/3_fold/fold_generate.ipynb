{
 "cells": [
  {
   "cell_type": "code",
   "execution_count": 72,
   "metadata": {},
   "outputs": [],
   "source": [
    "import pandas as pd\n",
    "import numpy as np\n",
    "import random\n",
    "from scipy.stats import spearmanr, pearsonr\n",
    "from matplotlib import pyplot as plt"
   ]
  },
  {
   "cell_type": "markdown",
   "metadata": {},
   "source": [
    "# PCV"
   ]
  },
  {
   "cell_type": "code",
   "execution_count": 87,
   "metadata": {},
   "outputs": [],
   "source": [
    "general_pdb_for_model_clean=pd.read_csv(\"../cluster/pdbbind_2020_cluster_result.csv\")\n",
    "clusters = list(set(general_pdb_for_model_clean['PCV_cluster'].tolist()))\n",
    "cluster_dict = {}\n",
    "for item, data in general_pdb_for_model_clean.groupby(\"PCV_cluster\"):\n",
    "    cluster_dict[item]=data.shape[0]\n"
   ]
  },
  {
   "cell_type": "code",
   "execution_count": 90,
   "metadata": {},
   "outputs": [
    {
     "data": {
      "text/plain": [
       "464"
      ]
     },
     "execution_count": 90,
     "metadata": {},
     "output_type": "execute_result"
    }
   ],
   "source": [
    "cluster_dict['hormone_recep']"
   ]
  },
  {
   "cell_type": "code",
   "execution_count": 91,
   "metadata": {},
   "outputs": [],
   "source": [
    "clusters.remove('hormone_recep')"
   ]
  },
  {
   "cell_type": "code",
   "execution_count": 162,
   "metadata": {},
   "outputs": [],
   "source": [
    "fold_1 = ['hormone_recep']\n",
    "fold_2 = []\n",
    "fold_3 = []\n",
    "num_1 = 464\n",
    "num_2 = 0\n",
    "num_3 = 0\n",
    "random.shuffle(clusters)\n",
    "\n",
    "for item in clusters:\n",
    "    if num_1 <= min(num_2, num_3):\n",
    "        fold_1.append(item)\n",
    "        num_1 += cluster_dict[item]\n",
    "\n",
    "    elif num_2 < min(num_1, num_3):\n",
    "        fold_2.append(item)\n",
    "        num_2 += cluster_dict[item]\n",
    "    else:\n",
    "        fold_3.append(item)\n",
    "        num_3 += cluster_dict[item]\n"
   ]
  },
  {
   "cell_type": "code",
   "execution_count": 163,
   "metadata": {},
   "outputs": [
    {
     "data": {
      "text/plain": [
       "5753"
      ]
     },
     "execution_count": 163,
     "metadata": {},
     "output_type": "execute_result"
    }
   ],
   "source": [
    "num_1"
   ]
  },
  {
   "cell_type": "code",
   "execution_count": 164,
   "metadata": {},
   "outputs": [
    {
     "data": {
      "text/plain": [
       "5752"
      ]
     },
     "execution_count": 164,
     "metadata": {},
     "output_type": "execute_result"
    }
   ],
   "source": [
    "num_2"
   ]
  },
  {
   "cell_type": "code",
   "execution_count": 165,
   "metadata": {},
   "outputs": [
    {
     "data": {
      "text/plain": [
       "6569"
      ]
     },
     "execution_count": 165,
     "metadata": {},
     "output_type": "execute_result"
    }
   ],
   "source": [
    "num_3"
   ]
  },
  {
   "cell_type": "code",
   "execution_count": 166,
   "metadata": {},
   "outputs": [
    {
     "data": {
      "text/plain": [
       "18074"
      ]
     },
     "execution_count": 166,
     "metadata": {},
     "output_type": "execute_result"
    }
   ],
   "source": [
    "num_1 +num_2 +num_3"
   ]
  },
  {
   "cell_type": "code",
   "execution_count": 167,
   "metadata": {},
   "outputs": [],
   "source": [
    "folds = [fold_1, fold_2, fold_3]\n",
    "for i in range(len(folds)):\n",
    "    subfold = folds[i]\n",
    "    fold_df = pd.DataFrame()\n",
    "    for cluster in subfold:\n",
    "        sub_df = general_pdb_for_model_clean[general_pdb_for_model_clean['PCV_cluster']==cluster][['pdb','affinity']]\n",
    "        fold_df = pd.concat([fold_df, sub_df])\n",
    "    fold_df.to_csv(\"/pubhome/hzhu02/GPSF/generalization_benchmark/datasets/general_3_fold/PCV/10/fold_\"+str(i+1), index=False)"
   ]
  },
  {
   "cell_type": "markdown",
   "metadata": {},
   "source": [
    "# SCV"
   ]
  },
  {
   "cell_type": "code",
   "execution_count": 170,
   "metadata": {},
   "outputs": [],
   "source": [
    "SCV_clusters = list(set(general_pdb_for_model_clean['SCV_cluster'].tolist()))\n",
    "SCV_cluster_dict = {}\n",
    "for item, data in general_pdb_for_model_clean.groupby(\"SCV_cluster\"):\n",
    "    SCV_cluster_dict[item]=data.shape[0]"
   ]
  },
  {
   "cell_type": "code",
   "execution_count": 171,
   "metadata": {},
   "outputs": [
    {
     "data": {
      "text/plain": [
       "701"
      ]
     },
     "execution_count": 171,
     "metadata": {},
     "output_type": "execute_result"
    }
   ],
   "source": [
    "SCV_cluster_dict['Cluster 0']"
   ]
  },
  {
   "cell_type": "code",
   "execution_count": 172,
   "metadata": {},
   "outputs": [],
   "source": [
    "SCV_clusters.remove(\"Cluster 0\")"
   ]
  },
  {
   "cell_type": "code",
   "execution_count": 173,
   "metadata": {},
   "outputs": [
    {
     "data": {
      "text/plain": [
       "False"
      ]
     },
     "execution_count": 173,
     "metadata": {},
     "output_type": "execute_result"
    }
   ],
   "source": [
    "\"Cluster 0\" in SCV_clusters"
   ]
  },
  {
   "cell_type": "code",
   "execution_count": 251,
   "metadata": {},
   "outputs": [],
   "source": [
    "fold_1 = ['Cluster 0']\n",
    "fold_2 = []\n",
    "fold_3 = []\n",
    "num_1 = 701\n",
    "num_2 = 0\n",
    "num_3 = 0\n",
    "random.shuffle(SCV_clusters)\n",
    "\n",
    "for item in SCV_clusters:\n",
    "    if num_1 <= min(num_2, num_3):\n",
    "        fold_1.append(item)\n",
    "        num_1 += SCV_cluster_dict[item]\n",
    "\n",
    "    elif num_2 < min(num_1, num_3):\n",
    "        fold_2.append(item)\n",
    "        num_2 += SCV_cluster_dict[item]\n",
    "    else:\n",
    "        fold_3.append(item)\n",
    "        num_3 += SCV_cluster_dict[item]"
   ]
  },
  {
   "cell_type": "code",
   "execution_count": 252,
   "metadata": {},
   "outputs": [
    {
     "data": {
      "text/plain": [
       "6024"
      ]
     },
     "execution_count": 252,
     "metadata": {},
     "output_type": "execute_result"
    }
   ],
   "source": [
    "num_1"
   ]
  },
  {
   "cell_type": "code",
   "execution_count": 253,
   "metadata": {},
   "outputs": [
    {
     "data": {
      "text/plain": [
       "6022"
      ]
     },
     "execution_count": 253,
     "metadata": {},
     "output_type": "execute_result"
    }
   ],
   "source": [
    "num_2   "
   ]
  },
  {
   "cell_type": "code",
   "execution_count": 254,
   "metadata": {},
   "outputs": [
    {
     "data": {
      "text/plain": [
       "6028"
      ]
     },
     "execution_count": 254,
     "metadata": {},
     "output_type": "execute_result"
    }
   ],
   "source": [
    "num_3"
   ]
  },
  {
   "cell_type": "code",
   "execution_count": 255,
   "metadata": {},
   "outputs": [
    {
     "data": {
      "text/plain": [
       "18074"
      ]
     },
     "execution_count": 255,
     "metadata": {},
     "output_type": "execute_result"
    }
   ],
   "source": [
    "num_1 +num_2+num_3"
   ]
  },
  {
   "cell_type": "code",
   "execution_count": 256,
   "metadata": {},
   "outputs": [],
   "source": [
    "folds = [fold_1, fold_2, fold_3]\n",
    "for i in range(len(folds)):\n",
    "    subfold = folds[i]\n",
    "    fold_df = pd.DataFrame()\n",
    "    for cluster in subfold:\n",
    "        sub_df = general_pdb_for_model_clean[general_pdb_for_model_clean['SCV_cluster']==cluster][['pdb','affinity']]\n",
    "        fold_df = pd.concat([fold_df, sub_df])\n",
    "    fold_df.to_csv(\"/pubhome/hzhu02/GPSF/generalization_benchmark/datasets/general_3_fold/SCV/3/fold_\"+str(i+1), index=False)"
   ]
  },
  {
   "cell_type": "code",
   "execution_count": 250,
   "metadata": {},
   "outputs": [],
   "source": [
    "general_pdb_for_model_clean[['pdb','affinity']].to_csv(\"/pubhome/hzhu02/GPSF/dataset/INDEX/split/hmm/jackhmmer/general/general_for_model.csv\", index=False)"
   ]
  },
  {
   "cell_type": "code",
   "execution_count": null,
   "metadata": {},
   "outputs": [],
   "source": []
  }
 ],
 "metadata": {
  "interpreter": {
   "hash": "421a9e705f18e7fa0c3d3d29773afdf562e587f5d579d988da7183952b999f91"
  },
  "kernelspec": {
   "display_name": "Python 3.6.12 64-bit ('potentialnet': conda)",
   "language": "python",
   "name": "python3"
  },
  "language_info": {
   "codemirror_mode": {
    "name": "ipython",
    "version": 3
   },
   "file_extension": ".py",
   "mimetype": "text/x-python",
   "name": "python",
   "nbconvert_exporter": "python",
   "pygments_lexer": "ipython3",
   "version": "3.6.12"
  },
  "orig_nbformat": 4
 },
 "nbformat": 4,
 "nbformat_minor": 2
}
