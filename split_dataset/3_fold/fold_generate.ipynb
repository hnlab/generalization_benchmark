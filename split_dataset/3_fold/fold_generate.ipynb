{
 "cells": [
  {
   "cell_type": "code",
   "execution_count": 2,
   "metadata": {},
   "outputs": [],
   "source": [
    "import pandas as pd\n",
    "import numpy as np\n",
    "import random\n",
    "from scipy.stats import spearmanr, pearsonr\n",
    "from matplotlib import pyplot as plt\n",
    "import os"
   ]
  },
  {
   "cell_type": "markdown",
   "metadata": {},
   "source": [
    "# Pfam-CV"
   ]
  },
  {
   "cell_type": "code",
   "execution_count": 87,
   "metadata": {},
   "outputs": [],
   "source": [
    "general_pdb_for_model_clean=pd.read_csv(\"../cluster/pdbbind_2020_cluster_result.csv\")\n",
    "clusters = list(set(general_pdb_for_model_clean['PCV_cluster'].tolist()))\n",
    "cluster_dict = {}\n",
    "for item, data in general_pdb_for_model_clean.groupby(\"PCV_cluster\"):\n",
    "    cluster_dict[item]=data.shape[0]\n"
   ]
  },
  {
   "cell_type": "code",
   "execution_count": 90,
   "metadata": {},
   "outputs": [
    {
     "data": {
      "text/plain": [
       "464"
      ]
     },
     "execution_count": 90,
     "metadata": {},
     "output_type": "execute_result"
    }
   ],
   "source": [
    "cluster_dict['hormone_recep']"
   ]
  },
  {
   "cell_type": "code",
   "execution_count": 91,
   "metadata": {},
   "outputs": [],
   "source": [
    "clusters.remove('hormone_recep')"
   ]
  },
  {
   "cell_type": "code",
   "execution_count": 162,
   "metadata": {},
   "outputs": [],
   "source": [
    "fold_1 = ['hormone_recep']\n",
    "fold_2 = []\n",
    "fold_3 = []\n",
    "num_1 = 464\n",
    "num_2 = 0\n",
    "num_3 = 0\n",
    "random.shuffle(clusters)\n",
    "\n",
    "for item in clusters:\n",
    "    if num_1 <= min(num_2, num_3):\n",
    "        fold_1.append(item)\n",
    "        num_1 += cluster_dict[item]\n",
    "\n",
    "    elif num_2 < min(num_1, num_3):\n",
    "        fold_2.append(item)\n",
    "        num_2 += cluster_dict[item]\n",
    "    else:\n",
    "        fold_3.append(item)\n",
    "        num_3 += cluster_dict[item]\n"
   ]
  },
  {
   "cell_type": "code",
   "execution_count": 163,
   "metadata": {},
   "outputs": [
    {
     "data": {
      "text/plain": [
       "5753"
      ]
     },
     "execution_count": 163,
     "metadata": {},
     "output_type": "execute_result"
    }
   ],
   "source": [
    "num_1"
   ]
  },
  {
   "cell_type": "code",
   "execution_count": 164,
   "metadata": {},
   "outputs": [
    {
     "data": {
      "text/plain": [
       "5752"
      ]
     },
     "execution_count": 164,
     "metadata": {},
     "output_type": "execute_result"
    }
   ],
   "source": [
    "num_2"
   ]
  },
  {
   "cell_type": "code",
   "execution_count": 165,
   "metadata": {},
   "outputs": [
    {
     "data": {
      "text/plain": [
       "6569"
      ]
     },
     "execution_count": 165,
     "metadata": {},
     "output_type": "execute_result"
    }
   ],
   "source": [
    "num_3"
   ]
  },
  {
   "cell_type": "code",
   "execution_count": 166,
   "metadata": {},
   "outputs": [
    {
     "data": {
      "text/plain": [
       "18074"
      ]
     },
     "execution_count": 166,
     "metadata": {},
     "output_type": "execute_result"
    }
   ],
   "source": [
    "num_1 +num_2 +num_3"
   ]
  },
  {
   "cell_type": "code",
   "execution_count": 167,
   "metadata": {},
   "outputs": [],
   "source": [
    "folds = [fold_1, fold_2, fold_3]\n",
    "for i in range(len(folds)):\n",
    "    subfold = folds[i]\n",
    "    fold_df = pd.DataFrame()\n",
    "    for cluster in subfold:\n",
    "        sub_df = general_pdb_for_model_clean[general_pdb_for_model_clean['PCV_cluster']==cluster][['pdb','affinity']]\n",
    "        fold_df = pd.concat([fold_df, sub_df])\n",
    "    fold_df.to_csv(\"./results/PCV/10/fold_\"+str(i+1)+\".csv\", index=False)"
   ]
  },
  {
   "cell_type": "code",
   "execution_count": 3,
   "metadata": {},
   "outputs": [],
   "source": [
    "general_pdb_for_model_clean=pd.read_csv(\"../cluster/pdbbind_2020_cluster_result.csv\")"
   ]
  },
  {
   "cell_type": "code",
   "execution_count": null,
   "metadata": {},
   "outputs": [],
   "source": [
    "for i in range(1,11):\n",
    "    for j in range(1,4):\n",
    "        cmd=\"mkdir -p /pubhome/hzhu02/models/Redocked_pose/split_dataset/3_fold/results/PCV/\"+str(i)+\"/fold_\"+str(j)\n",
    "        os.system(cmd)\n",
    "        cmd=\"cd /pubhome/hzhu02/models/Redocked_pose/split_dataset/3_fold/results/PCV/\"+str(i)+\"/fold_\"+str(j)\n",
    "        os.system(cmd)\n",
    "        fold_1=pd.read_csv(\"../fold_1.csv\")\n",
    "        fold_2=pd.read_csv(\"../fold_2.csv\")\n",
    "        fold_3=pd.read_csv(\"../fold_3.csv\")\n",
    "        if j==1:\n",
    "            cmd=\"cp ../fold_1.csv ./test.csv\"\n",
    "            os.system(cmd)\n",
    "            train_val = pd.concat([fold_2, fold_3]).sample(frac=1) ## shuffle\n",
    "            train_size = int(train_val.shape[0]*0.8) ## 80% for training \n",
    "            val_size=train_val.shape[0] - train_size\n",
    "            train_val.head(train_size).to_csv(\"./train.csv\", index=False)\n",
    "            train_val.tail(val_size).to_csv(\"./valid.csv\", index=False)\n",
    "            cmd=\"sed -i 1d train.csv\"\n",
    "            os.system(cmd)\n",
    "            cmd=\"sed -i 1d valid.csv\"\n",
    "            os.system(cmd)\n",
    "            cmd=\"sed -i 1d test.csv\"\n",
    "            os.system(cmd)\n",
    "        if j==2:\n",
    "            cmd=\"cp ../fold_2.csv ./test.csv\"\n",
    "            os.system(cmd)\n",
    "            train_val = pd.concat([fold_1, fold_3]).sample(frac=1) ## shuffle\n",
    "            train_size = int(train_val.shape[0]*0.8) ## 80% for training \n",
    "            val_size=train_val.shape[0] - train_size\n",
    "            train_val.head(train_size).to_csv(\"./train.csv\", index=False)\n",
    "            train_val.tail(val_size).to_csv(\"./valid.csv\", index=False)\n",
    "            cmd=\"sed -i 1d train.csv\"\n",
    "            os.system(cmd)\n",
    "            cmd=\"sed -i 1d valid.csv\"\n",
    "            os.system(cmd)\n",
    "            cmd=\"sed -i 1d test.csv\"\n",
    "            os.system(cmd)\n",
    "        else:\n",
    "            cmd=\"cp ../fold_3.csv ./test.csv\"\n",
    "            os.system(cmd)\n",
    "            train_val = pd.concat([fold_1, fold_2]).sample(frac=1) ## shuffle\n",
    "            train_size = int(train_val.shape[0]*0.8) ## 80% for training \n",
    "            val_size=train_val.shape[0] - train_size\n",
    "            train_val.head(train_size).to_csv(\"./train.csv\", index=False)\n",
    "            train_val.tail(val_size).to_csv(\"./valid.csv\", index=False)\n",
    "            cmd=\"sed -i 1d train.csv\"\n",
    "            os.system(cmd)\n",
    "            cmd=\"sed -i 1d valid.csv\"\n",
    "            os.system(cmd)\n",
    "            cmd=\"sed -i 1d test.csv\"\n",
    "            os.system(cmd)\n",
    "\n",
    "\n",
    "            \n",
    "\n",
    "\n",
    "\n"
   ]
  },
  {
   "cell_type": "markdown",
   "metadata": {},
   "source": [
    "# Seq-CV"
   ]
  },
  {
   "cell_type": "code",
   "execution_count": 170,
   "metadata": {},
   "outputs": [],
   "source": [
    "SCV_clusters = list(set(general_pdb_for_model_clean['SCV_cluster'].tolist()))\n",
    "SCV_cluster_dict = {}\n",
    "for item, data in general_pdb_for_model_clean.groupby(\"SCV_cluster\"):\n",
    "    SCV_cluster_dict[item]=data.shape[0]"
   ]
  },
  {
   "cell_type": "code",
   "execution_count": 171,
   "metadata": {},
   "outputs": [
    {
     "data": {
      "text/plain": [
       "701"
      ]
     },
     "execution_count": 171,
     "metadata": {},
     "output_type": "execute_result"
    }
   ],
   "source": [
    "SCV_cluster_dict['Cluster 0']"
   ]
  },
  {
   "cell_type": "code",
   "execution_count": 172,
   "metadata": {},
   "outputs": [],
   "source": [
    "SCV_clusters.remove(\"Cluster 0\")"
   ]
  },
  {
   "cell_type": "code",
   "execution_count": 173,
   "metadata": {},
   "outputs": [
    {
     "data": {
      "text/plain": [
       "False"
      ]
     },
     "execution_count": 173,
     "metadata": {},
     "output_type": "execute_result"
    }
   ],
   "source": [
    "\"Cluster 0\" in SCV_clusters"
   ]
  },
  {
   "cell_type": "code",
   "execution_count": 251,
   "metadata": {},
   "outputs": [],
   "source": [
    "fold_1 = ['Cluster 0']\n",
    "fold_2 = []\n",
    "fold_3 = []\n",
    "num_1 = 701\n",
    "num_2 = 0\n",
    "num_3 = 0\n",
    "random.shuffle(SCV_clusters)\n",
    "\n",
    "for item in SCV_clusters:\n",
    "    if num_1 <= min(num_2, num_3):\n",
    "        fold_1.append(item)\n",
    "        num_1 += SCV_cluster_dict[item]\n",
    "\n",
    "    elif num_2 < min(num_1, num_3):\n",
    "        fold_2.append(item)\n",
    "        num_2 += SCV_cluster_dict[item]\n",
    "    else:\n",
    "        fold_3.append(item)\n",
    "        num_3 += SCV_cluster_dict[item]"
   ]
  },
  {
   "cell_type": "code",
   "execution_count": 252,
   "metadata": {},
   "outputs": [
    {
     "data": {
      "text/plain": [
       "6024"
      ]
     },
     "execution_count": 252,
     "metadata": {},
     "output_type": "execute_result"
    }
   ],
   "source": [
    "num_1"
   ]
  },
  {
   "cell_type": "code",
   "execution_count": 253,
   "metadata": {},
   "outputs": [
    {
     "data": {
      "text/plain": [
       "6022"
      ]
     },
     "execution_count": 253,
     "metadata": {},
     "output_type": "execute_result"
    }
   ],
   "source": [
    "num_2   "
   ]
  },
  {
   "cell_type": "code",
   "execution_count": 254,
   "metadata": {},
   "outputs": [
    {
     "data": {
      "text/plain": [
       "6028"
      ]
     },
     "execution_count": 254,
     "metadata": {},
     "output_type": "execute_result"
    }
   ],
   "source": [
    "num_3"
   ]
  },
  {
   "cell_type": "code",
   "execution_count": 255,
   "metadata": {},
   "outputs": [
    {
     "data": {
      "text/plain": [
       "18074"
      ]
     },
     "execution_count": 255,
     "metadata": {},
     "output_type": "execute_result"
    }
   ],
   "source": [
    "num_1 +num_2+num_3"
   ]
  },
  {
   "cell_type": "code",
   "execution_count": 256,
   "metadata": {},
   "outputs": [],
   "source": [
    "folds = [fold_1, fold_2, fold_3]\n",
    "for i in range(len(folds)):\n",
    "    subfold = folds[i]\n",
    "    fold_df = pd.DataFrame()\n",
    "    for cluster in subfold:\n",
    "        sub_df = general_pdb_for_model_clean[general_pdb_for_model_clean['SCV_cluster']==cluster][['pdb','affinity']]\n",
    "        fold_df = pd.concat([fold_df, sub_df])\n",
    "    fold_df.to_csv(\"./results/SCV/3/fold_\"+str(i+1)+\".csv\", index=False)\n",
    "\n",
    "## the following is the same as pcv"
   ]
  },
  {
   "cell_type": "markdown",
   "metadata": {},
   "source": [
    "# Random-CV"
   ]
  },
  {
   "cell_type": "code",
   "execution_count": null,
   "metadata": {},
   "outputs": [],
   "source": [
    "fold_1_size = int(general_pdb_for_model_clean.shape[0]/3)\n",
    "fold_2_size = fold_1_size\n",
    "fold_3_size = general_pdb_for_model_clean.shape[0]-2*fold_1_size"
   ]
  },
  {
   "cell_type": "code",
   "execution_count": null,
   "metadata": {},
   "outputs": [],
   "source": [
    "for i in range(1,11):\n",
    "    data = general_pdb_for_model_clean.sample(frac=1)\n",
    "    data.head(fold_1_size)[['pdb','affinity']].to_csv(\"./RCV/\"+str(i)+\"/fold_1.csv\", index=False)\n",
    "    data.loc[fold_1_size:fold_1_size+fold_2_size][['pdb','affinity']].to_csv(\"./RCV/\"+str(i)+\"/fold_2.csv\", index=False)\n",
    "    data.tail(fold_3_size)[['pdb','affinity']].to_csv(\"./RCV/\"+str(i)+\"/fold_3.csv\", index=False)\n",
    "\n",
    "## the following is the same as pcv"
   ]
  }
 ],
 "metadata": {
  "interpreter": {
   "hash": "421a9e705f18e7fa0c3d3d29773afdf562e587f5d579d988da7183952b999f91"
  },
  "kernelspec": {
   "display_name": "Python 3.6.12 64-bit ('potentialnet': conda)",
   "language": "python",
   "name": "python3"
  },
  "language_info": {
   "codemirror_mode": {
    "name": "ipython",
    "version": 3
   },
   "file_extension": ".py",
   "mimetype": "text/x-python",
   "name": "python",
   "nbconvert_exporter": "python",
   "pygments_lexer": "ipython3",
   "version": "3.6.12"
  },
  "orig_nbformat": 4
 },
 "nbformat": 4,
 "nbformat_minor": 2
}
