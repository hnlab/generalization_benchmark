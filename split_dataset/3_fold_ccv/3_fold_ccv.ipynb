{
 "cells": [
  {
   "cell_type": "code",
   "execution_count": 1,
   "metadata": {},
   "outputs": [],
   "source": [
    "from Bio.PDB.PDBParser import PDBParser\n",
    "from Bio.PDB.Polypeptide import three_to_one\n",
    "from Bio.PDB.Polypeptide import is_aa\n",
    "from Bio import pairwise2\n",
    "from multiprocessing import Pool, cpu_count\n",
    "from functools import partial\n",
    "import scipy.cluster.hierarchy\n",
    "import numpy as np\n",
    "import sys, argparse, bisect, re, os, fnmatch\n",
    "import pickle, collections\n",
    "from rdkit.Chem import AllChem as Chem\n",
    "from rdkit.Chem import AllChem\n",
    "from rdkit.DataStructs import FingerprintSimilarity as fs\n",
    "from rdkit.Chem.Fingerprints import FingerprintMols\n",
    "import rdkit\n",
    "import re\n",
    "import pandas as pd\n",
    "from Bio.pairwise2 import format_alignment\n",
    "from collections import Counter\n"
   ]
  },
  {
   "cell_type": "code",
   "execution_count": 2,
   "metadata": {},
   "outputs": [],
   "source": [
    "def getResidueStrings(structure):\n",
    "    seqs = []\n",
    "    for model in structure:\n",
    "        for ch in model.get_chains():\n",
    "            seq = ''\n",
    "            for residue in model.get_residues():\n",
    "                resname = residue.get_resname()\n",
    "                if is_aa(resname, standard=True):\n",
    "                    seq += three_to_one(resname)\n",
    "                elif resname in {'HIE', 'HID'}:\n",
    "                    seq += 'H'\n",
    "                elif resname in {'CYX', 'CYM'}:\n",
    "                    seq += 'C'\n",
    "                else:\n",
    "                    seq += 'X'\n",
    "            seqs.append(seq)\n",
    "    return seqs"
   ]
  },
  {
   "cell_type": "code",
   "execution_count": 3,
   "metadata": {},
   "outputs": [],
   "source": [
    "def cUTDM2(targets, pair):\n",
    "    '''compute distance between target pair'''\n",
    "    (a, b) = pair\n",
    "    mindist = 1.0\n",
    "    for seq1 in targets[a]:\n",
    "        for seq2 in targets[b]:\n",
    "            score = pairwise2.align.globalxx(seq1, seq2, score_only=True)\n",
    "            length = max(len(seq1), len(seq2))\n",
    "            distance = (length-score)/length\n",
    "            if distance < mindist:\n",
    "                mindist = distance\n",
    "    #print (a,b,mindist)\n",
    "    return (a, b, mindist)"
   ]
  },
  {
   "cell_type": "code",
   "execution_count": 4,
   "metadata": {},
   "outputs": [],
   "source": [
    "def calcDistanceMatrix(targets):\n",
    "    '''compute full pairwise target distance matrix in parallel'''\n",
    "    n = len(targets)\n",
    "    pairs = [(r, c) for r in range(n) for c in range(r+1, n)] #upper triangle\n",
    "    pool = Pool()\n",
    "    function = partial(cUTDM2, targets)\n",
    "    distanceTuples = pool.map(function, pairs)\n",
    "    distanceMatrix = np.zeros((n, n))\n",
    "    for (a, b, distance) in distanceTuples:\n",
    "        distanceMatrix[a][b] = distanceMatrix[b][a] = distance\n",
    "    return distanceMatrix"
   ]
  },
  {
   "cell_type": "code",
   "execution_count": 5,
   "metadata": {},
   "outputs": [],
   "source": [
    "def get_chain(pdb_id):\n",
    "    chain_seq = []\n",
    "    chain_dict = {}\n",
    "    with open(\"/pubhome/hzhu02/GPSF/dataset/pdbbind_v2020/general_refine/\"+pdb_id+\"/\"+pdb_id+\"_protein.pdb\", \"r\") as f:\n",
    "        for line in f.readlines():\n",
    "            if line.startswith(\"SEQRES\"):\n",
    "                line = line.strip().split()\n",
    "                if line[2] not in chain_dict.keys():\n",
    "                    chain_dict[line[2]]=''\n",
    "                for i in range(4, len(line)):\n",
    "                    aa = line[i]\n",
    "                    if is_aa(aa, standard=True):\n",
    "                        chain_dict[line[2]] += three_to_one(aa)\n",
    "                    elif aa in {'HIE', 'HID'}:\n",
    "                        chain_dict[line[2]] += 'H'\n",
    "                    elif aa in {'CYX', 'CYM'}:\n",
    "                        chain_dict[line[2]] += 'C'\n",
    "                    else:\n",
    "                        chain_dict[line[2]] += 'X' \n",
    "    for key in chain_dict.keys():\n",
    "        chain_seq.append(chain_dict[key])\n",
    "    return chain_seq\n",
    "         "
   ]
  },
  {
   "cell_type": "markdown",
   "metadata": {},
   "source": [
    "# aspartyl protease"
   ]
  },
  {
   "cell_type": "code",
   "execution_count": 70,
   "metadata": {},
   "outputs": [],
   "source": [
    "chain_seq_1=get_chain(\"2v12\")\n",
    "chain_seq_2 = get_chain(\"1ec1\")"
   ]
  },
  {
   "cell_type": "code",
   "execution_count": 71,
   "metadata": {},
   "outputs": [
    {
     "data": {
      "text/plain": [
       "['GNTTSSVILTNYMDTQYYGEIGIGTPPQTFKVVFDTGSSNVWVPSSKCSRLYTACVYHKLFDASDSSSYKHNGTELTLRYSTGTVSGFLSQDIITVGGITVTQMFGEVTEMPALPFMLAEFDGVVGMGFIEQAIGRVTPIFDNIISQGVLKEDVFSFYYNRDSESLGGQIVLGGSDPQHYEGNFHYINLIKTGVWQIQMKGVSVGSSTLLCEDGCLALVDTGASYISGSTSSIEKLMEALGAKKRLFDYVVKCNEGPTLPDISFHLGGKEYTLTSADYVFQESYSSKKLCTLAIHAMDIPPPTGPTWALGATFIRKFYTEFDRRNNRIGFALAR',\n",
       " 'NTTSSVILTNYMDTQYYGEIGIGTPPQTFKVVFDTGSSNVWVPSSKCSRLYTACVYHKLFDASDSSSYKHNGTELTLRYSTGTVSGFLSQDIITVGGITVTQMFGEVTEMPALPFMLAEFDGVVGMGFIEQAIGRVTPIFDNIISQGVLKEDVFSFYYNRDSSLGGQIVLGGSDPQHYEGNFHYINLIKTGVWQIQMKGVSVGSSTLLCEDGCLALVDTGASYISGSTSSIEKLMEALGAKKRLFDYVVKCNEGPTLPDISFHLGGKEYTLTSADYVFQESYSSKKLCTLAIHAMDIPPPTGPTWALGATFIRKFYTEFDRRNNRIGFALAR']"
      ]
     },
     "execution_count": 71,
     "metadata": {},
     "output_type": "execute_result"
    }
   ],
   "source": [
    "chain_seq_1"
   ]
  },
  {
   "cell_type": "code",
   "execution_count": 72,
   "metadata": {},
   "outputs": [],
   "source": [
    "alignments = pairwise2.align.globalxx(chain_seq_1[0], chain_seq_2[0])\n",
    "a = format_alignment(*alignments[0])\n",
    "split = a.split(\"\\n\")\n",
    "print(len(split[1]))\n",
    "print(split[0][0:100])\n",
    "print(split[1][0:100])\n",
    "print(split[2][0:100])\n",
    "print(\" \")\n",
    "print(split[0][100:200])\n",
    "print(split[1][100:200])\n",
    "print(split[2][100:200])\n",
    "print(\" \")\n",
    "print(split[0][200:300])\n",
    "print(split[1][200:300])\n",
    "print(split[2][200:300])\n",
    "print(\" \")\n",
    "print(split[0][300:400])\n",
    "print(split[1][300:400])\n",
    "print(split[2][300:400])\n",
    "print(\" \")\n",
    "print(split[0][400:500])\n",
    "print(split[1][400:500])\n",
    "print(split[2][400:500])"
   ]
  },
  {
   "cell_type": "markdown",
   "metadata": {},
   "source": [
    "# GPCR"
   ]
  },
  {
   "cell_type": "code",
   "execution_count": 79,
   "metadata": {},
   "outputs": [],
   "source": [
    "chain_seq_1=get_chain(\"5xjm\")\n",
    "chain_seq_2 = get_chain(\"6h7m\")"
   ]
  },
  {
   "cell_type": "code",
   "execution_count": 80,
   "metadata": {},
   "outputs": [
    {
     "data": {
      "text/plain": [
       "['CSQKPSDKHLDAIPILYYIIFVIGFLVNIVVVTLFCCQKGPKKVSSIYIFNLAVADLLLLATLPLWATYYSYRYDWLFGPVMCKVFGSFLTLNMFASIFFITCMSVDRYQSVIYPFLSQRRNPWQASYIVPLVWCMACLSSLPTFYFRDVRTIEYLGVNACIMAFPPEKYAQWSAGIALMKNILGFIIPLIFIATCYFGIRKHLLKTNADLEDNWETLNDNLKVIEKADNAAQVKDALTKMRAAALDAQKATPDFRHGFDILVGQIDDALKLANEGKVKEAQAAAEQLKTTRNAYIQKYLKNRITRDQVLKMAAAVVLAFIICWLPFHVLTFLDALAWMGVINSCEVIAVIDLALPFAILLGFTNSCVNPFLYCF',\n",
       " 'DVQLVESGGGLVQPGGSRKLSCAASGFTFSGFGMHWVRQAPEKGLEWVAYISSGSSLIYYADTVKGRFTISRDNPKNTLFLQMTSLRSEDTAMYFCATSLYYGTPWFAYWGQGTLVTVSAAKTTPPSVYPLAPGCGDTTGSSVTLGCLVKGYFPESVTVTWNSGSLSSSVHTFPALLQSGLYTMSSSVTVPSSTWPSQTVTCSVAHPASSTTVDKKLEPS',\n",
       " 'DIVLTQSPAIMSASPGEKVTMTCSASSSVTYMYWYQQKPGSSPRLLIYDTSNLASGVPVRFSGSGSGTSYSLTISRMEAEDAATFYCQQWSSYPLTFGAGTKLELKRADAAPTVSIFPPSSEQLTSGGASVVCFLNNFYPKDINVKWKIDGSERQNGVLNSWTDQDSKDSTYSMSSTLTLTKDEYERHNSYTCEATHKTSTSPIVKSFNRNE']"
      ]
     },
     "execution_count": 80,
     "metadata": {},
     "output_type": "execute_result"
    }
   ],
   "source": [
    "chain_seq_1"
   ]
  },
  {
   "cell_type": "code",
   "execution_count": 81,
   "metadata": {},
   "outputs": [
    {
     "data": {
      "text/plain": [
       "375"
      ]
     },
     "execution_count": 81,
     "metadata": {},
     "output_type": "execute_result"
    }
   ],
   "source": [
    "len(chain_seq_1[0])"
   ]
  },
  {
   "cell_type": "code",
   "execution_count": 41,
   "metadata": {},
   "outputs": [
    {
     "data": {
      "text/plain": [
       "['KIIHLTDDSFDTDVLKADGAILVDFWAEWSGPSKMIAPILDEIADEYQGKLTVAKLNIDQNPGTAPKYGIRGIPTLLLFKNGEVAATKVGALSKGQLKEFLDANLAE',\n",
       " 'AAKVMSLLMALVVLLIVAGNVLVIAAIGSTQRLQTLTNLFITSLACADLVVGLLVVPFGATLVVRGTWLWGSFLCELWTSLDVLCVTASIETLCVIAIDRYLAITSPFRYQSLMTRARAKVIICTVWAISALVSFLPIMMHWWRDEDPQALKCYQDPGCCDFVTNRAYAIASSIISFYIPLLIMIFVYLRVYREAKEQIRKIDRASKRKTSRVMAMKEHKALKTLGIIMGVFTLCWLPFFLVNIVNVFNRDLVPDWLFVAFNWLGYANSAMNPIIYCRSPDFRKAFKRLLA',\n",
       " 'QVQLQESGGGLVQAGGSLRLSCAASGSIFALNIMGWYRQAPGKQRELVAAIHSGGTTNYANSVKGRFTISRDNAANTVYLQMNSLKPEDTAVYYCNVKDFGAIIYDYDYWGQGTQVTVSS']"
      ]
     },
     "execution_count": 41,
     "metadata": {},
     "output_type": "execute_result"
    }
   ],
   "source": [
    "chain_seq_2"
   ]
  },
  {
   "cell_type": "code",
   "execution_count": 78,
   "metadata": {},
   "outputs": [
    {
     "data": {
      "text/plain": [
       "291"
      ]
     },
     "execution_count": 78,
     "metadata": {},
     "output_type": "execute_result"
    }
   ],
   "source": [
    "len(chain_seq_2[1])"
   ]
  },
  {
   "cell_type": "code",
   "execution_count": 45,
   "metadata": {},
   "outputs": [],
   "source": [
    "seq1=chain_seq_1[0]\n",
    "seq2=chain_seq_2[1]\n",
    "score = pairwise2.align.globalxx(seq1, seq2, score_only=True)\n",
    "length = max(len(seq1), len(seq2))\n",
    "distance = (length-score)/length"
   ]
  },
  {
   "cell_type": "code",
   "execution_count": 46,
   "metadata": {},
   "outputs": [
    {
     "data": {
      "text/plain": [
       "0.6533333333333333"
      ]
     },
     "execution_count": 46,
     "metadata": {},
     "output_type": "execute_result"
    }
   ],
   "source": [
    "distance"
   ]
  },
  {
   "cell_type": "code",
   "execution_count": 26,
   "metadata": {},
   "outputs": [
    {
     "data": {
      "text/plain": [
       "124.0"
      ]
     },
     "execution_count": 26,
     "metadata": {},
     "output_type": "execute_result"
    }
   ],
   "source": [
    "score"
   ]
  },
  {
   "cell_type": "code",
   "execution_count": 27,
   "metadata": {},
   "outputs": [
    {
     "data": {
      "text/plain": [
       "304"
      ]
     },
     "execution_count": 27,
     "metadata": {},
     "output_type": "execute_result"
    }
   ],
   "source": [
    "length"
   ]
  },
  {
   "cell_type": "code",
   "execution_count": 83,
   "metadata": {},
   "outputs": [
    {
     "name": "stdout",
     "output_type": "stream",
     "text": [
      "536\n",
      "CSQ--KP--SDKHLD--AIPILYYIIFVIGFLVN--IVV---VTLFCCQKGPKKVSSIY--IF----------NL-----AV-ADLLL---LATL--PLW\n",
      "     |   |   |   |   |     |    |   | |   | |         |  |   |           ||     |  ||  |   |  |  |  \n",
      "---AAK-VMS---L-LMA---L-----V----V-LLI-VAGNV-L---------V--I-AAI-GSTQRLQTLTNLFITSLA-CAD--LVVGL--LVVP--\n",
      " \n",
      "--ATYYSYRYDWLFGPVMCKVF-G-----SFL----T-LNMF------ASIFFI-T-CMSV---DRYQSV--IY--PFLS--Q----R-RNPWQASYI-V\n",
      "  ||        |   |   |  |     |||    | |         ||   | | |  |   |||     |   ||    |    | |    |    |\n",
      "FGAT--------L---V---V-RGTWLWGSFLCELWTSL---DVLCVTAS---IETLC--VIAIDRY---LAI-TSPF--RYQSLMTRAR----A---KV\n",
      " \n",
      "PL----VWCMACL-S---S-LPTFYF------RDVRTIEY----L------G----V-NACIM-AFPPEKYAQWSAGIALMKN--ILGFI---IPL-IF-\n",
      "      ||  |   |   | ||          ||    |     |      |    | |     |     |    | ||      |   |   ||| |  \n",
      "--IICTVW--A--ISALVSFLP----IMMHWWRD----E-DPQALKCYQDPGCCDFVTN----RA-----Y----A-IA----SSI---ISFYIPLLI-M\n",
      " \n",
      "IATCYFGIRKHLLKTNADLEDNWETLNDN--LK-VI--EKADNAA--QV--K-D-ALT-KMRAAALDAQKATPDF-RHGFDILVGQIDD-AL-KLANEGK\n",
      "|    |                         |  |   |     |  |   | | |   | |       | |    |      |      |  |   |  \n",
      "I----F-----------------------VYL-RV-YRE-----AKEQ-IRKIDRA--SK-R-------K-T---SR------V-----MA-MK---E--\n",
      " \n",
      "V-KEAQAAAEQLKTTRNAYIQKYLKNR-ITRDQVLK-MAAAV-VLAFII--CWLPFHVLTFLDALAWMGVINSCEVIAVI-----DLAL-P---F-AIL-\n",
      "  |     |  || |        |    |        |     |  |    |||||    |   |    | |    | |      |  | |   | |   \n",
      "-HK-----A--LK-T--------L---GI-------IM----GV--F--TLCWLPF----F---L----V-N----I-V-NVFNRD--LVPDWLFVA--F\n",
      " \n",
      "--LGFT--NSCV--NPFL--YC----F---------\n",
      "  ||    ||    ||    ||    |         \n",
      "NWLG--YANS--AMNP--IIYCRSPDFRKAFKRLLA\n"
     ]
    }
   ],
   "source": [
    "alignments = pairwise2.align.globalxx(chain_seq_1[0], chain_seq_2[1])\n",
    "a = format_alignment(*alignments[0])\n",
    "split = a.split(\"\\n\")\n",
    "print(len(split[1]))\n",
    "print(split[0][0:100])\n",
    "print(split[1][0:100])\n",
    "print(split[2][0:100])\n",
    "print(\" \")\n",
    "print(split[0][100:200])\n",
    "print(split[1][100:200])\n",
    "print(split[2][100:200])\n",
    "print(\" \")\n",
    "print(split[0][200:300])\n",
    "print(split[1][200:300])\n",
    "print(split[2][200:300])\n",
    "print(\" \")\n",
    "print(split[0][300:400])\n",
    "print(split[1][300:400])\n",
    "print(split[2][300:400])\n",
    "print(\" \")\n",
    "print(split[0][400:500])\n",
    "print(split[1][400:500])\n",
    "print(split[2][400:500])\n",
    "print(\" \")\n",
    "print(split[0][500:600])\n",
    "print(split[1][500:600])\n",
    "print(split[2][500:600])"
   ]
  },
  {
   "cell_type": "markdown",
   "metadata": {},
   "source": [
    "# RNAses"
   ]
  },
  {
   "cell_type": "code",
   "execution_count": 63,
   "metadata": {},
   "outputs": [],
   "source": [
    "chain_seq_1=get_chain(\"2gmk\")\n",
    "chain_seq_2 = get_chain(\"2g8r\")"
   ]
  },
  {
   "cell_type": "code",
   "execution_count": 64,
   "metadata": {},
   "outputs": [
    {
     "data": {
      "text/plain": [
       "['XDWLTFQKKHITNTRDVDCDNIMSTNLFHCKDKNTFIYSRPEPVKAICKGIIASKNVLTTSEFYLSDCNVTSRPCKYKLKKSTNKFCVNCANQAPVHFVGVGSC']"
      ]
     },
     "execution_count": 64,
     "metadata": {},
     "output_type": "execute_result"
    }
   ],
   "source": [
    "chain_seq_1"
   ]
  },
  {
   "cell_type": "code",
   "execution_count": 65,
   "metadata": {},
   "outputs": [
    {
     "data": {
      "text/plain": [
       "104"
      ]
     },
     "execution_count": 65,
     "metadata": {},
     "output_type": "execute_result"
    }
   ],
   "source": [
    "len(chain_seq_1[0])"
   ]
  },
  {
   "cell_type": "code",
   "execution_count": 66,
   "metadata": {},
   "outputs": [
    {
     "data": {
      "text/plain": [
       "['KETAAAKFERQHMDSSTSAASSSNYCNQMMKSRNLTKDRCKPVNTFVHESLADVQAVCSQKNVACKNGQTNCYQSYSTMSITDCRETGSSKYPNCAYKTTQANKHIIVACEGNPYVPVHFDASV']"
      ]
     },
     "execution_count": 66,
     "metadata": {},
     "output_type": "execute_result"
    }
   ],
   "source": [
    "chain_seq_2"
   ]
  },
  {
   "cell_type": "code",
   "execution_count": 67,
   "metadata": {},
   "outputs": [
    {
     "data": {
      "text/plain": [
       "124"
      ]
     },
     "execution_count": 67,
     "metadata": {},
     "output_type": "execute_result"
    }
   ],
   "source": [
    "len(chain_seq_2[0])"
   ]
  },
  {
   "cell_type": "code",
   "execution_count": 29,
   "metadata": {},
   "outputs": [],
   "source": [
    "seq1=chain_seq_1[0]\n",
    "seq2=chain_seq_2[0]\n",
    "score = pairwise2.align.globalxx(seq1, seq2, score_only=True)\n",
    "length = max(len(seq1), len(seq2))\n",
    "distance = (length-score)/length"
   ]
  },
  {
   "cell_type": "code",
   "execution_count": 30,
   "metadata": {},
   "outputs": [
    {
     "data": {
      "text/plain": [
       "124"
      ]
     },
     "execution_count": 30,
     "metadata": {},
     "output_type": "execute_result"
    }
   ],
   "source": [
    "length"
   ]
  },
  {
   "cell_type": "code",
   "execution_count": 31,
   "metadata": {},
   "outputs": [
    {
     "data": {
      "text/plain": [
       "49.0"
      ]
     },
     "execution_count": 31,
     "metadata": {},
     "output_type": "execute_result"
    }
   ],
   "source": [
    "score"
   ]
  },
  {
   "cell_type": "code",
   "execution_count": 32,
   "metadata": {},
   "outputs": [
    {
     "data": {
      "text/plain": [
       "0.6048387096774194"
      ]
     },
     "execution_count": 32,
     "metadata": {},
     "output_type": "execute_result"
    }
   ],
   "source": [
    "distance"
   ]
  },
  {
   "cell_type": "code",
   "execution_count": 68,
   "metadata": {},
   "outputs": [],
   "source": [
    "alignments = pairwise2.align.globalxx(chain_seq_1[0], chain_seq_2[0])\n",
    "a = format_alignment(*alignments[0])"
   ]
  },
  {
   "cell_type": "code",
   "execution_count": 69,
   "metadata": {},
   "outputs": [
    {
     "name": "stdout",
     "output_type": "stream",
     "text": [
      "179\n",
      "XDWL--T----F--QKKHI----T------NTRDVD-CDNI-M--ST-NLFHC-KD--K--NTFIYSRP--EP----VK-AI-CKGIIAS-KNVLT----\n",
      "      |    |  |  |     |      |      | |  |  |  ||    ||  |  |||       |     |  |  |     | |||      \n",
      "----KETAAAKFERQ--H-MDSSTSAASSSN-----YC-N-QMMKS-RNL---TKDRCKPVNTF-----VHE-SLADV-QA-VC-----SQKNV--ACKN\n",
      " \n",
      "--T----SEFYLS-----DCNV--T-SR---P-CK-YKLKKST---NKFC---VNCA---NQAP-V--HFVGVG--SC-\n",
      "  |    |  | |     ||    | |    | |  |   | |   ||     |  |   |  | |  ||      |  \n",
      "GQTNCYQS--Y-STMSITDC--RETGS-SKYPNC-AY---K-TTQANK--HIIV--ACEGN--PYVPVHF----DAS-V\n",
      " \n",
      "\n",
      "\n",
      "\n",
      " \n",
      "\n",
      "\n",
      "\n",
      " \n",
      "\n",
      "\n",
      "\n"
     ]
    }
   ],
   "source": [
    "split = a.split(\"\\n\")\n",
    "print(len(split[1]))\n",
    "print(split[0][0:100])\n",
    "print(split[1][0:100])\n",
    "print(split[2][0:100])\n",
    "print(\" \")\n",
    "print(split[0][100:200])\n",
    "print(split[1][100:200])\n",
    "print(split[2][100:200])\n",
    "print(\" \")\n",
    "print(split[0][200:300])\n",
    "print(split[1][200:300])\n",
    "print(split[2][200:300])\n",
    "print(\" \")\n",
    "print(split[0][300:400])\n",
    "print(split[1][300:400])\n",
    "print(split[2][300:400])\n",
    "print(\" \")\n",
    "print(split[0][400:500])\n",
    "print(split[1][400:500])\n",
    "print(split[2][400:500])"
   ]
  },
  {
   "cell_type": "markdown",
   "metadata": {},
   "source": [
    "# hormone receptor"
   ]
  },
  {
   "cell_type": "code",
   "execution_count": 48,
   "metadata": {},
   "outputs": [],
   "source": [
    "chain_seq_1=get_chain(\"6i65\")\n",
    "chain_seq_2 = get_chain(\"2xhs\")"
   ]
  },
  {
   "cell_type": "code",
   "execution_count": 49,
   "metadata": {},
   "outputs": [
    {
     "data": {
      "text/plain": [
       "['YNKIVSHLLVAEPEKIYAMPDPTVPDSDIKALTTLCDLADRELVVIIGWAKHIPGFSTLSLADQMSLLQSAWMEILILGVVYRSLSFEDELVYADDYIMDEDQSKLAGLLDLNNAILQLVKKYKSMKLEKEEFVTLKAIALANSDSMHIEDVEAVQKLQDVLHEALQDYEAGQHMEDPRRAGKMLMTLPLLRQTSTKAVQHFYNIKLEGKVPMHKLFLEMLEAK',\n",
       " 'YNKIVSHLLVAEPEKIYAMPDPTVPDSDIKALTTLCDLADRELVVIIGWAKHIPGFSTLSLADQMSLLQSAWMEILILGVVYRSLSFEDELVYADDYIMDEDQSKLAGLLDLNNAILQLVKKYKSMKLEKEEFVTLKAIALANSDSMHIEDVEAVQKLQDVLHEALQDYEAGQHMEDPRRAGKMLMTLPLLRQTSTKAVQHFYNIKLEGKVPMHKLFLEMLEAK']"
      ]
     },
     "execution_count": 49,
     "metadata": {},
     "output_type": "execute_result"
    }
   ],
   "source": [
    "chain_seq_1"
   ]
  },
  {
   "cell_type": "code",
   "execution_count": 50,
   "metadata": {},
   "outputs": [
    {
     "data": {
      "text/plain": [
       "['GSHXLEDPLRVSPXIREFVQSIDDREWQTQLFALLQKQTYNQVEVDLFELXCKVLDQNLFSQVDWARNTVFFKDLKVDDQXKLLQHSWSDXLVLDHLHHRIHNGLPDETQLNNGQVFNLXSLGLLGVPQLGDYFNELQNKLQDLKFDXGDYVCXKFLILLNPSVRGIVNRKTVSEGHDNVQAALLDYTLTCYPSVNDKFRGLVNILPEIHAXAVRGEDHLYTKHCAGSAPTQTLLXEXLHAKRK']"
      ]
     },
     "execution_count": 50,
     "metadata": {},
     "output_type": "execute_result"
    }
   ],
   "source": [
    "chain_seq_2"
   ]
  },
  {
   "cell_type": "code",
   "execution_count": 51,
   "metadata": {},
   "outputs": [],
   "source": [
    "seq1=chain_seq_1[0]\n",
    "seq2=chain_seq_2[0]\n",
    "score = pairwise2.align.globalxx(seq1, seq2, score_only=True)\n",
    "length = max(len(seq1), len(seq2))\n",
    "distance = (length-score)/length"
   ]
  },
  {
   "cell_type": "code",
   "execution_count": 52,
   "metadata": {},
   "outputs": [
    {
     "data": {
      "text/plain": [
       "0.639344262295082"
      ]
     },
     "execution_count": 52,
     "metadata": {},
     "output_type": "execute_result"
    }
   ],
   "source": [
    "distance"
   ]
  },
  {
   "cell_type": "markdown",
   "metadata": {},
   "source": [
    "# kinase"
   ]
  },
  {
   "cell_type": "code",
   "execution_count": 53,
   "metadata": {},
   "outputs": [],
   "source": [
    "chain_seq_1=get_chain(\"5mo8\")"
   ]
  },
  {
   "cell_type": "code",
   "execution_count": 54,
   "metadata": {},
   "outputs": [
    {
     "data": {
      "text/plain": [
       "325"
      ]
     },
     "execution_count": 54,
     "metadata": {},
     "output_type": "execute_result"
    }
   ],
   "source": [
    "len(chain_seq_1[0])"
   ]
  },
  {
   "cell_type": "code",
   "execution_count": 55,
   "metadata": {},
   "outputs": [],
   "source": [
    "chain_seq_2 = get_chain(\"1xkk\")"
   ]
  },
  {
   "cell_type": "code",
   "execution_count": 56,
   "metadata": {},
   "outputs": [
    {
     "data": {
      "text/plain": [
       "289"
      ]
     },
     "execution_count": 56,
     "metadata": {},
     "output_type": "execute_result"
    }
   ],
   "source": [
    "len(chain_seq_2[0])"
   ]
  },
  {
   "cell_type": "code",
   "execution_count": 57,
   "metadata": {},
   "outputs": [],
   "source": [
    "alignments = pairwise2.align.globalxx(chain_seq_1[0], chain_seq_2[0])\n",
    "a = format_alignment(*alignments[0])"
   ]
  },
  {
   "cell_type": "code",
   "execution_count": 62,
   "metadata": {},
   "outputs": [
    {
     "name": "stdout",
     "output_type": "stream",
     "text": [
      "499\n",
      "PVPSRARVYTDVNTHRPSEYWDYESHVVEWGNQDDYQLVRKLGRG--KYSEVFEAINITNNE-KVVVKI--L---------K----PVKKKKIKRE---I\n",
      "     |                               |   | |   |     |    |  | |   ||  |         |    ||   ||      |\n",
      "-----A-------------------------------L---L-R-ILK-----E----T--EFK---KIKVLGSGAFGTVYKGLWIPV---KI---PVAI\n",
      " \n",
      "KILENLRGGP---NI--ITLADI---VK----D-P-VS-RTPALVFEHVNN-----TDFK---QLYQ-T-LT-------DYDI-RFYMYEIL-KALD---\n",
      "|  | ||      |   | | |    |     | | |  |   |            |      ||   | |        ||   |    |   |  |   \n",
      "K--E-LR---EKAN-KEI-L-D-EAYV-MASVDNPHV-CR---L-------LGICLT---STVQL--ITQL-MPFGCLLDY--VR----E--HK--DNIG\n",
      " \n",
      "--Y----CHSMG--I---M---------HRD-----V--K-P-HNVM-I-DHEHR----KLRLIDWGLAEFYHPGQEYNVRVASRYFKG-PE-----L--\n",
      "  |    |      |   |         |||     |  | | | |  | |        || |   | ||      |          |  |      |  \n",
      "SQYLLNWC----VQIAKGMNYLEDRRLVHRDLAARNVLVKTPQH-V-KITD----FGLAKL-L---G-AE------E----------K-VP-IKWMALES\n",
      " \n",
      "-LVD---Y--QMYDYSLDM-WSL-GCM-----LASMI-FR--KEPFFHGHDNYDQLVR-I-AKV------L--GTED-LY--------D-Y-ID--KYN-\n",
      " |     |  |    | |  ||  |       |  |  |   | |       ||     | |        |  | |  |         | | |   |   \n",
      "IL--HRIYTHQ----S-D-VWS-YG--VTVWEL--M-TF-GSK-P-------YD----GIPA--SEISSILEKG-E-RL-PQPPICTIDVYMI-MVK--C\n",
      " \n",
      "--IELDPRFN-DILGRHSR-KRWERFVHS-ENQHLVSP--EALDFLD-KLL--RYDH-QSR-LTAR-----EA-MEHPY--FYT------VV-------\n",
      "  |  |     |     || |    |    |   |     |   |   |    | |  | | |        |  |      ||       ||       \n",
      "WMI--D----AD-----SRPK----F---RE---L---IIE---F--SK--MAR-D-PQ-RYL---VIQGDE-RM----SNFY-RALMDEVVDADEYLI\n"
     ]
    }
   ],
   "source": [
    "split = a.split(\"\\n\")\n",
    "print(len(split[1]))\n",
    "print(split[0][0:100])\n",
    "print(split[1][0:100])\n",
    "print(split[2][0:100])\n",
    "print(\" \")\n",
    "print(split[0][100:200])\n",
    "print(split[1][100:200])\n",
    "print(split[2][100:200])\n",
    "print(\" \")\n",
    "print(split[0][200:300])\n",
    "print(split[1][200:300])\n",
    "print(split[2][200:300])\n",
    "print(\" \")\n",
    "print(split[0][300:400])\n",
    "print(split[1][300:400])\n",
    "print(split[2][300:400])\n",
    "print(\" \")\n",
    "print(split[0][400:500])\n",
    "print(split[1][400:500])\n",
    "print(split[2][400:500])\n",
    "\n"
   ]
  },
  {
   "cell_type": "code",
   "execution_count": null,
   "metadata": {},
   "outputs": [],
   "source": [
    "## mol_fingerprint"
   ]
  },
  {
   "cell_type": "code",
   "execution_count": null,
   "metadata": {},
   "outputs": [],
   "source": [
    "## check sdf v2020 id readable"
   ]
  },
  {
   "cell_type": "code",
   "execution_count": 4,
   "metadata": {},
   "outputs": [],
   "source": [
    "pdbbind_v2020_code  = pd.read_csv(\"/pubhome/hzhu02/Redocked_pose/split_dataset/pfam/refine/pdbbind_v2020_refine.code\", header=None)\n",
    "pdbbind_v2020_code.columns=['pdb']\n",
    "code_list = pdbbind_v2020_code['pdb'].tolist()"
   ]
  },
  {
   "cell_type": "code",
   "execution_count": 5,
   "metadata": {},
   "outputs": [],
   "source": [
    "for code in code_list:\n",
    "    try:\n",
    "        supplier_10gs = Chem.SDMolSupplier(\"/pubhome/hzhu02/GPSF/dataset/pdbbind_v2020/refine_2020/\"+code+\"/\"+code+\"_ligand.sdf\", sanitize=False, removeHs=False)\n",
    "        mol_10gs = supplier_10gs[0]\n",
    "        fp_10gs = FingerprintMols.FingerprintMol(mol_10gs)\n",
    "    except:\n",
    "        print(code)\n"
   ]
  },
  {
   "cell_type": "code",
   "execution_count": 2,
   "metadata": {},
   "outputs": [],
   "source": [
    "supplier_10gs = Chem.SDMolSupplier(\"/pubhome/hzhu02/GPSF/dataset/pdbbind_v2020/refine_2020/10gs/10gs_ligand.sdf\", sanitize=False, removeHs=False)\n",
    "mol_10gs = supplier_10gs[0]\n",
    "fp_10gs = FingerprintMols.FingerprintMol(mol_10gs)"
   ]
  },
  {
   "cell_type": "code",
   "execution_count": 14,
   "metadata": {},
   "outputs": [],
   "source": [
    "supplier_1a4k = Chem.SDMolSupplier(\"/pubhome/hzhu02/GPSF/dataset/data/result/1a4k/1a4k_ligand.fixed.sdf\", sanitize=False, removeHs=False)\n",
    "mol_1a4k = supplier_1a4k[0]\n",
    "fp_1a4k = FingerprintMols.FingerprintMol(mol_1a4k)"
   ]
  },
  {
   "cell_type": "code",
   "execution_count": 16,
   "metadata": {},
   "outputs": [
    {
     "data": {
      "text/plain": [
       "0.3580152671755725"
      ]
     },
     "execution_count": 16,
     "metadata": {},
     "output_type": "execute_result"
    }
   ],
   "source": [
    "fs(fp_10gs, fp_1a4k)"
   ]
  },
  {
   "cell_type": "code",
   "execution_count": 67,
   "metadata": {},
   "outputs": [],
   "source": [
    "file = pd.read_csv(\"/pubhome/hzhu02/GPSF/dataset/INDEX/native_pose_result.csv\", header=None)\n",
    "pdb_chain_mapping = pd.read_csv(\"/pubhome/hzhu02/GPSF/dataset/INDEX/split/pdb_pfam_mapping.csv\", sep=\",\")\n",
    "clans = pd.read_csv(\"/pubhome/hzhu02/GPSF/dataset/INDEX/split/clans.tsv\", sep=\"\\t\")\n",
    "clans = clans.rename(columns={'pfamA_acc':'PFAM_ACCESSION'})"
   ]
  },
  {
   "cell_type": "code",
   "execution_count": 270,
   "metadata": {},
   "outputs": [],
   "source": [
    "def get_lig_chain(pdbid, pocket):\n",
    "    pocket_file = pd.read_csv(pocket, sep=\"\\t\", header=None)\n",
    "    pocket_file.columns=['all']\n",
    "    pocket_file['atom']=pocket_file['all'].apply(lambda x:re.split(r\"[ ]+\", x)[0])\n",
    "    pocket_file = pocket_file[pocket_file['atom']==\"ATOM\"]\n",
    "    pocket_file['chain']=pocket_file['all'].apply(lambda x: re.split(r\"[ ]+\", x)[4]) \n",
    "    pocket_file['res']=pocket_file['all'].apply(lambda x:re.split(r\"[ ]+\", x)[5])\n",
    "    pocket_file['new_chain'] = pocket_file['chain'].apply(lambda x: x[0])\n",
    "    pocket_file['new_res']=pocket_file.apply(lambda x: x.chain[1:] if len(x.chain)>1 else x.res, axis=1)\n",
    "    pocket_file['real_aa']=pocket_file['new_res'].apply(lambda x: 0 if x[-1] not in z else 1)\n",
    "    chain_type = list(set(pocket_file[pocket_file['atom']==\"ATOM\"]['new_chain'].tolist()))\n",
    "\n",
    "    all_info = []\n",
    "    max_atom_num = 0\n",
    "    for chain in chain_type:\n",
    "        res_list = pocket_file[(pocket_file['new_chain']==chain)&(pocket_file['real_aa']==1)]['new_res'].astype(int).tolist()\n",
    "        atom_num = len(res_list)\n",
    "        res_list_uniq = list(set(res_list))\n",
    "        res_num = len(res_list_uniq)\n",
    "        item = [pdbid, chain, atom_num, res_num, res_list_uniq]\n",
    "        all_info.append(item)\n",
    "        if atom_num > max_atom_num:\n",
    "            max_atom_num = atom_num\n",
    "            main_info =[pdbid, chain, atom_num, res_num, res_list_uniq]\n",
    "\n",
    "    return pocket_file, all_info, main_info"
   ]
  },
  {
   "cell_type": "code",
   "execution_count": 256,
   "metadata": {},
   "outputs": [],
   "source": [
    "pocket=\"/pubhome/hzhu02/GPSF/dataset/refine_2020/1uto/1uto_pocket.pdb\""
   ]
  },
  {
   "cell_type": "code",
   "execution_count": 271,
   "metadata": {},
   "outputs": [],
   "source": [
    "file_2, all, main = get_lig_chain(\"1uto\",pocket)"
   ]
  },
  {
   "cell_type": "code",
   "execution_count": 259,
   "metadata": {},
   "outputs": [],
   "source": [
    "pocket_file = pd.read_csv(pocket, sep=\"\\t\", header=None)\n",
    "pocket_file.columns=['all']\n",
    "pocket_file['atom']=pocket_file['all'].apply(lambda x:re.split(r\"[ ]+\", x)[0])\n",
    "pocket_file = pocket_file[pocket_file['atom']==\"ATOM\"]\n",
    "pocket_file['chain']=pocket_file['all'].apply(lambda x: re.split(r\"[ ]+\", x)[4]) \n",
    "pocket_file['res']=pocket_file['all'].apply(lambda x:re.split(r\"[ ]+\", x)[5])\n",
    "pocket_file['new_chain'] = pocket_file['chain'].apply(lambda x: x[0])\n",
    "pocket_file['new_res']=pocket_file.apply(lambda x: x.chain[1:] if len(x.chain)>1 else x.res, axis=1)\n",
    "pocket_file['real_aa']=pocket_file['new_res'].apply(lambda x: 0 if x[-1] not in z else 1)"
   ]
  },
  {
   "cell_type": "code",
   "execution_count": 241,
   "metadata": {},
   "outputs": [],
   "source": [
    "def find_lig_domain(pdbid, chain, res, pfam_mapping):\n",
    "    possibile_pfam = pfam_mapping[(pfam_mapping['PDB']==pdbid) & (pfam_mapping['CHAIN']==chain)]\n",
    "    if possibile_pfam.shape[0] > 0:\n",
    "        for j in range(possibile_pfam.shape[0]):\n",
    "            subfile = possibile_pfam[j:j+1]\n",
    "            num_pdb_start = subfile['AUTH_PDBRES_START'].tolist()[0]\n",
    "            num_pdb_end = subfile['AUTH_PDBRES_END'].tolist()[0]\n",
    "            pdb_domain = list(range(int(num_pdb_start), int(num_pdb_end)+1))\n",
    "            num = len(list(set(res).intersection(set(pdb_domain))))\n",
    "\n",
    "            pfam_info_sub = [subfile['PFAM_ACCESSION'],subfile['PFAM_NAME'],subfile['UNIPROT_ACCESSION'],num_pdb_start,num_pdb_end,num]\n",
    "            pfam_info =pfam_info.append(info[i].extend(pfam_info_sub))\n",
    "        \n",
    "\n",
    "            \n",
    "\n",
    "    return pfam_info"
   ]
  },
  {
   "cell_type": "code",
   "execution_count": 276,
   "metadata": {},
   "outputs": [],
   "source": [
    "all_chain=pd.read_csv(\"/pubhome/hzhu02/Redocked_pose/split_dataset/pfam/refine/pdbbind_v2020_refine_all_pocket_chain_info.csv\")"
   ]
  },
  {
   "cell_type": "code",
   "execution_count": 308,
   "metadata": {},
   "outputs": [],
   "source": [
    "def change_str_to_list (res_str):\n",
    "    a=[]\n",
    "    for i in range(len(res_str)):\n",
    "        if i == 0:\n",
    "            a.append(int(res_str[i][1:]))\n",
    "        elif i==len(res_str)-1:\n",
    "            a.append(int(res_str[i][:-1]))\n",
    "        else:\n",
    "            a.append(int(res_str[i]))\n",
    "    return a"
   ]
  },
  {
   "cell_type": "code",
   "execution_count": 309,
   "metadata": {},
   "outputs": [],
   "source": [
    "sort_chain = all_chain[all_chain['pdb']==\"2i4x\"].sort_values(by=['atom_num'], ascending=False)"
   ]
  },
  {
   "cell_type": "code",
   "execution_count": 319,
   "metadata": {},
   "outputs": [],
   "source": [
    "main_chain = sort_chain['chain'].tolist()[0]\n",
    "res_list = change_str_to_list(sort_chain['res_uniq_list'].tolist()[0].split(\",\"))"
   ]
  },
  {
   "cell_type": "code",
   "execution_count": 323,
   "metadata": {},
   "outputs": [],
   "source": [
    "clans = pd.read_csv(\"/pubhome/hzhu02/GPSF/dataset/INDEX/split/clans.tsv\", sep=\"\\t\")"
   ]
  },
  {
   "cell_type": "code",
   "execution_count": 324,
   "metadata": {},
   "outputs": [],
   "source": [
    "mapping = pd.read_csv(\"/pubhome/hzhu02/GPSF/dataset/INDEX/split/pdb_pfam_mapping.csv\")"
   ]
  },
  {
   "cell_type": "code",
   "execution_count": 325,
   "metadata": {},
   "outputs": [],
   "source": [
    "clans = clans.rename(columns={'pfamA_acc':'PFAM_ACCESSION'})"
   ]
  },
  {
   "cell_type": "code",
   "execution_count": 347,
   "metadata": {},
   "outputs": [],
   "source": [
    "pfam_clan = pd.merge(mapping, clans, on=['PFAM_ACCESSION'])[['PDB','CHAIN','PFAM_ACCESSION','PFAM_NAME','AUTH_PDBRES_START','AUTH_PDBRES_END','UNIPROT_ACCESSION','clan_acc','clan_id']]"
   ]
  },
  {
   "cell_type": "code",
   "execution_count": 348,
   "metadata": {},
   "outputs": [],
   "source": [
    "pfam_clan.to_csv(\"/pubhome/hzhu02/Redocked_pose/split_dataset/pfam/pdb_pfam_clan.csv\", index=False)"
   ]
  },
  {
   "cell_type": "code",
   "execution_count": 335,
   "metadata": {},
   "outputs": [],
   "source": [
    "nuport_pharos = pd.read_csv(\"/pubhome/hzhu02/Redocked_pose/split_dataset/pharos/pharos.csv\")"
   ]
  },
  {
   "cell_type": "code",
   "execution_count": 338,
   "metadata": {},
   "outputs": [],
   "source": [
    "nuport_pharos=nuport_pharos.rename(columns={'UniProt':'UNIPROT_ACCESSION'})"
   ]
  },
  {
   "cell_type": "code",
   "execution_count": 344,
   "metadata": {},
   "outputs": [
    {
     "data": {
      "text/plain": [
       "(710413, 7)"
      ]
     },
     "execution_count": 344,
     "metadata": {},
     "output_type": "execute_result"
    }
   ],
   "source": [
    "pfam_clan.shape"
   ]
  },
  {
   "cell_type": "code",
   "execution_count": 343,
   "metadata": {},
   "outputs": [
    {
     "data": {
      "text/html": [
       "<div>\n",
       "<style scoped>\n",
       "    .dataframe tbody tr th:only-of-type {\n",
       "        vertical-align: middle;\n",
       "    }\n",
       "\n",
       "    .dataframe tbody tr th {\n",
       "        vertical-align: top;\n",
       "    }\n",
       "\n",
       "    .dataframe thead th {\n",
       "        text-align: right;\n",
       "    }\n",
       "</style>\n",
       "<table border=\"1\" class=\"dataframe\">\n",
       "  <thead>\n",
       "    <tr style=\"text-align: right;\">\n",
       "      <th></th>\n",
       "      <th>PDB</th>\n",
       "      <th>CHAIN</th>\n",
       "      <th>PFAM_ACCESSION</th>\n",
       "      <th>PFAM_NAME</th>\n",
       "      <th>UNIPROT_ACCESSION</th>\n",
       "      <th>clan_acc</th>\n",
       "      <th>clan_id</th>\n",
       "      <th>Family</th>\n",
       "      <th>Name</th>\n",
       "      <th>Novelty</th>\n",
       "      <th>PDB IDs</th>\n",
       "      <th>Symbol</th>\n",
       "      <th>Target Development Level</th>\n",
       "      <th>id</th>\n",
       "    </tr>\n",
       "  </thead>\n",
       "  <tbody>\n",
       "    <tr>\n",
       "      <th>0</th>\n",
       "      <td>1a00</td>\n",
       "      <td>A</td>\n",
       "      <td>PF00042</td>\n",
       "      <td>Globin</td>\n",
       "      <td>P69905</td>\n",
       "      <td>CL0090</td>\n",
       "      <td>Globin</td>\n",
       "      <td>Other</td>\n",
       "      <td>Hemoglobin subunit alpha</td>\n",
       "      <td>0.000941</td>\n",
       "      <td>1A00,1A01,1A0U,1A0Z,1A3N,1A3O,1A9W,1ABW,1ABY,1...</td>\n",
       "      <td>HBA1</td>\n",
       "      <td>Tclin</td>\n",
       "      <td>6231</td>\n",
       "    </tr>\n",
       "    <tr>\n",
       "      <th>1</th>\n",
       "      <td>1a00</td>\n",
       "      <td>C</td>\n",
       "      <td>PF00042</td>\n",
       "      <td>Globin</td>\n",
       "      <td>P69905</td>\n",
       "      <td>CL0090</td>\n",
       "      <td>Globin</td>\n",
       "      <td>Other</td>\n",
       "      <td>Hemoglobin subunit alpha</td>\n",
       "      <td>0.000941</td>\n",
       "      <td>1A00,1A01,1A0U,1A0Z,1A3N,1A3O,1A9W,1ABW,1ABY,1...</td>\n",
       "      <td>HBA1</td>\n",
       "      <td>Tclin</td>\n",
       "      <td>6231</td>\n",
       "    </tr>\n",
       "    <tr>\n",
       "      <th>2</th>\n",
       "      <td>1a01</td>\n",
       "      <td>A</td>\n",
       "      <td>PF00042</td>\n",
       "      <td>Globin</td>\n",
       "      <td>P69905</td>\n",
       "      <td>CL0090</td>\n",
       "      <td>Globin</td>\n",
       "      <td>Other</td>\n",
       "      <td>Hemoglobin subunit alpha</td>\n",
       "      <td>0.000941</td>\n",
       "      <td>1A00,1A01,1A0U,1A0Z,1A3N,1A3O,1A9W,1ABW,1ABY,1...</td>\n",
       "      <td>HBA1</td>\n",
       "      <td>Tclin</td>\n",
       "      <td>6231</td>\n",
       "    </tr>\n",
       "    <tr>\n",
       "      <th>3</th>\n",
       "      <td>1a01</td>\n",
       "      <td>C</td>\n",
       "      <td>PF00042</td>\n",
       "      <td>Globin</td>\n",
       "      <td>P69905</td>\n",
       "      <td>CL0090</td>\n",
       "      <td>Globin</td>\n",
       "      <td>Other</td>\n",
       "      <td>Hemoglobin subunit alpha</td>\n",
       "      <td>0.000941</td>\n",
       "      <td>1A00,1A01,1A0U,1A0Z,1A3N,1A3O,1A9W,1ABW,1ABY,1...</td>\n",
       "      <td>HBA1</td>\n",
       "      <td>Tclin</td>\n",
       "      <td>6231</td>\n",
       "    </tr>\n",
       "    <tr>\n",
       "      <th>4</th>\n",
       "      <td>1a0u</td>\n",
       "      <td>A</td>\n",
       "      <td>PF00042</td>\n",
       "      <td>Globin</td>\n",
       "      <td>P69905</td>\n",
       "      <td>CL0090</td>\n",
       "      <td>Globin</td>\n",
       "      <td>Other</td>\n",
       "      <td>Hemoglobin subunit alpha</td>\n",
       "      <td>0.000941</td>\n",
       "      <td>1A00,1A01,1A0U,1A0Z,1A3N,1A3O,1A9W,1ABW,1ABY,1...</td>\n",
       "      <td>HBA1</td>\n",
       "      <td>Tclin</td>\n",
       "      <td>6231</td>\n",
       "    </tr>\n",
       "    <tr>\n",
       "      <th>...</th>\n",
       "      <td>...</td>\n",
       "      <td>...</td>\n",
       "      <td>...</td>\n",
       "      <td>...</td>\n",
       "      <td>...</td>\n",
       "      <td>...</td>\n",
       "      <td>...</td>\n",
       "      <td>...</td>\n",
       "      <td>...</td>\n",
       "      <td>...</td>\n",
       "      <td>...</td>\n",
       "      <td>...</td>\n",
       "      <td>...</td>\n",
       "      <td>...</td>\n",
       "    </tr>\n",
       "    <tr>\n",
       "      <th>159663</th>\n",
       "      <td>7p5m</td>\n",
       "      <td>B</td>\n",
       "      <td>PF04906</td>\n",
       "      <td>Tweety</td>\n",
       "      <td>Q9BSA4</td>\n",
       "      <td>NaN</td>\n",
       "      <td>NaN</td>\n",
       "      <td>Ion Channel</td>\n",
       "      <td>Protein tweety homolog 2</td>\n",
       "      <td>0.197965</td>\n",
       "      <td>NaN</td>\n",
       "      <td>TTYH2</td>\n",
       "      <td>Tbio</td>\n",
       "      <td>9743</td>\n",
       "    </tr>\n",
       "    <tr>\n",
       "      <th>159664</th>\n",
       "      <td>7p5c</td>\n",
       "      <td>A</td>\n",
       "      <td>PF04906</td>\n",
       "      <td>Tweety</td>\n",
       "      <td>Q9C0H2</td>\n",
       "      <td>NaN</td>\n",
       "      <td>NaN</td>\n",
       "      <td>Ion Channel</td>\n",
       "      <td>Protein tweety homolog 3</td>\n",
       "      <td>0.217472</td>\n",
       "      <td>NaN</td>\n",
       "      <td>TTYH3</td>\n",
       "      <td>Tbio</td>\n",
       "      <td>9681</td>\n",
       "    </tr>\n",
       "    <tr>\n",
       "      <th>159665</th>\n",
       "      <td>7p5c</td>\n",
       "      <td>B</td>\n",
       "      <td>PF04906</td>\n",
       "      <td>Tweety</td>\n",
       "      <td>Q9C0H2</td>\n",
       "      <td>NaN</td>\n",
       "      <td>NaN</td>\n",
       "      <td>Ion Channel</td>\n",
       "      <td>Protein tweety homolog 3</td>\n",
       "      <td>0.217472</td>\n",
       "      <td>NaN</td>\n",
       "      <td>TTYH3</td>\n",
       "      <td>Tbio</td>\n",
       "      <td>9681</td>\n",
       "    </tr>\n",
       "    <tr>\n",
       "      <th>159666</th>\n",
       "      <td>7p5j</td>\n",
       "      <td>A</td>\n",
       "      <td>PF04906</td>\n",
       "      <td>Tweety</td>\n",
       "      <td>Q9H313</td>\n",
       "      <td>NaN</td>\n",
       "      <td>NaN</td>\n",
       "      <td>Ion Channel</td>\n",
       "      <td>Protein tweety homolog 1</td>\n",
       "      <td>0.066988</td>\n",
       "      <td>NaN</td>\n",
       "      <td>TTYH1</td>\n",
       "      <td>Tbio</td>\n",
       "      <td>9634</td>\n",
       "    </tr>\n",
       "    <tr>\n",
       "      <th>159667</th>\n",
       "      <td>7p5j</td>\n",
       "      <td>B</td>\n",
       "      <td>PF04906</td>\n",
       "      <td>Tweety</td>\n",
       "      <td>Q9H313</td>\n",
       "      <td>NaN</td>\n",
       "      <td>NaN</td>\n",
       "      <td>Ion Channel</td>\n",
       "      <td>Protein tweety homolog 1</td>\n",
       "      <td>0.066988</td>\n",
       "      <td>NaN</td>\n",
       "      <td>TTYH1</td>\n",
       "      <td>Tbio</td>\n",
       "      <td>9634</td>\n",
       "    </tr>\n",
       "  </tbody>\n",
       "</table>\n",
       "<p>159668 rows × 14 columns</p>\n",
       "</div>"
      ],
      "text/plain": [
       "         PDB CHAIN PFAM_ACCESSION PFAM_NAME UNIPROT_ACCESSION clan_acc  \\\n",
       "0       1a00     A        PF00042    Globin            P69905   CL0090   \n",
       "1       1a00     C        PF00042    Globin            P69905   CL0090   \n",
       "2       1a01     A        PF00042    Globin            P69905   CL0090   \n",
       "3       1a01     C        PF00042    Globin            P69905   CL0090   \n",
       "4       1a0u     A        PF00042    Globin            P69905   CL0090   \n",
       "...      ...   ...            ...       ...               ...      ...   \n",
       "159663  7p5m     B        PF04906    Tweety            Q9BSA4      NaN   \n",
       "159664  7p5c     A        PF04906    Tweety            Q9C0H2      NaN   \n",
       "159665  7p5c     B        PF04906    Tweety            Q9C0H2      NaN   \n",
       "159666  7p5j     A        PF04906    Tweety            Q9H313      NaN   \n",
       "159667  7p5j     B        PF04906    Tweety            Q9H313      NaN   \n",
       "\n",
       "       clan_id       Family                      Name   Novelty  \\\n",
       "0       Globin        Other  Hemoglobin subunit alpha  0.000941   \n",
       "1       Globin        Other  Hemoglobin subunit alpha  0.000941   \n",
       "2       Globin        Other  Hemoglobin subunit alpha  0.000941   \n",
       "3       Globin        Other  Hemoglobin subunit alpha  0.000941   \n",
       "4       Globin        Other  Hemoglobin subunit alpha  0.000941   \n",
       "...        ...          ...                       ...       ...   \n",
       "159663     NaN  Ion Channel  Protein tweety homolog 2  0.197965   \n",
       "159664     NaN  Ion Channel  Protein tweety homolog 3  0.217472   \n",
       "159665     NaN  Ion Channel  Protein tweety homolog 3  0.217472   \n",
       "159666     NaN  Ion Channel  Protein tweety homolog 1  0.066988   \n",
       "159667     NaN  Ion Channel  Protein tweety homolog 1  0.066988   \n",
       "\n",
       "                                                  PDB IDs Symbol  \\\n",
       "0       1A00,1A01,1A0U,1A0Z,1A3N,1A3O,1A9W,1ABW,1ABY,1...   HBA1   \n",
       "1       1A00,1A01,1A0U,1A0Z,1A3N,1A3O,1A9W,1ABW,1ABY,1...   HBA1   \n",
       "2       1A00,1A01,1A0U,1A0Z,1A3N,1A3O,1A9W,1ABW,1ABY,1...   HBA1   \n",
       "3       1A00,1A01,1A0U,1A0Z,1A3N,1A3O,1A9W,1ABW,1ABY,1...   HBA1   \n",
       "4       1A00,1A01,1A0U,1A0Z,1A3N,1A3O,1A9W,1ABW,1ABY,1...   HBA1   \n",
       "...                                                   ...    ...   \n",
       "159663                                                NaN  TTYH2   \n",
       "159664                                                NaN  TTYH3   \n",
       "159665                                                NaN  TTYH3   \n",
       "159666                                                NaN  TTYH1   \n",
       "159667                                                NaN  TTYH1   \n",
       "\n",
       "       Target Development Level    id  \n",
       "0                         Tclin  6231  \n",
       "1                         Tclin  6231  \n",
       "2                         Tclin  6231  \n",
       "3                         Tclin  6231  \n",
       "4                         Tclin  6231  \n",
       "...                         ...   ...  \n",
       "159663                     Tbio  9743  \n",
       "159664                     Tbio  9681  \n",
       "159665                     Tbio  9681  \n",
       "159666                     Tbio  9634  \n",
       "159667                     Tbio  9634  \n",
       "\n",
       "[159668 rows x 14 columns]"
      ]
     },
     "execution_count": 343,
     "metadata": {},
     "output_type": "execute_result"
    }
   ],
   "source": [
    "pd.merge(pfam_clan, nuport_pharos, on=['UNIPROT_ACCESSION'])"
   ]
  },
  {
   "cell_type": "code",
   "execution_count": 354,
   "metadata": {},
   "outputs": [],
   "source": [
    "all_pfam_clan = pd.read_csv(\"/pubhome/hzhu02/Redocked_pose/split_dataset/pfam/refine/pdbbind_v2020_main_chain_pfam_info.csv\", sep=\"\\t\")"
   ]
  },
  {
   "cell_type": "code",
   "execution_count": 355,
   "metadata": {},
   "outputs": [
    {
     "data": {
      "text/html": [
       "<div>\n",
       "<style scoped>\n",
       "    .dataframe tbody tr th:only-of-type {\n",
       "        vertical-align: middle;\n",
       "    }\n",
       "\n",
       "    .dataframe tbody tr th {\n",
       "        vertical-align: top;\n",
       "    }\n",
       "\n",
       "    .dataframe thead th {\n",
       "        text-align: right;\n",
       "    }\n",
       "</style>\n",
       "<table border=\"1\" class=\"dataframe\">\n",
       "  <thead>\n",
       "    <tr style=\"text-align: right;\">\n",
       "      <th></th>\n",
       "      <th>pdb</th>\n",
       "      <th>main_chain</th>\n",
       "      <th>res_num</th>\n",
       "      <th>pfam</th>\n",
       "      <th>pfam_name</th>\n",
       "      <th>pdb_start</th>\n",
       "      <th>pdb_end</th>\n",
       "      <th>cov_num</th>\n",
       "      <th>clan_acc</th>\n",
       "      <th>clan_id</th>\n",
       "      <th>uniport</th>\n",
       "    </tr>\n",
       "  </thead>\n",
       "  <tbody>\n",
       "    <tr>\n",
       "      <th>0</th>\n",
       "      <td>2r58</td>\n",
       "      <td>A</td>\n",
       "      <td>25</td>\n",
       "      <td>PF02820</td>\n",
       "      <td>MBT</td>\n",
       "      <td>209</td>\n",
       "      <td>277</td>\n",
       "      <td>0</td>\n",
       "      <td>CL0049</td>\n",
       "      <td>Tudor</td>\n",
       "      <td>Q9VHA0</td>\n",
       "    </tr>\n",
       "    <tr>\n",
       "      <th>1</th>\n",
       "      <td>3c2f</td>\n",
       "      <td>A</td>\n",
       "      <td>30</td>\n",
       "      <td>PF02749</td>\n",
       "      <td>QRPTase_N</td>\n",
       "      <td>30</td>\n",
       "      <td>117</td>\n",
       "      <td>0</td>\n",
       "      <td>CL0105</td>\n",
       "      <td>Hybrid</td>\n",
       "      <td>P43619</td>\n",
       "    </tr>\n",
       "    <tr>\n",
       "      <th>2</th>\n",
       "      <td>3c2f</td>\n",
       "      <td>A</td>\n",
       "      <td>30</td>\n",
       "      <td>PF01729</td>\n",
       "      <td>QRPTase_C</td>\n",
       "      <td>119</td>\n",
       "      <td>292</td>\n",
       "      <td>30</td>\n",
       "      <td>CL0036</td>\n",
       "      <td>TIM_barrel</td>\n",
       "      <td>P43619</td>\n",
       "    </tr>\n",
       "    <tr>\n",
       "      <th>3</th>\n",
       "      <td>3g2y</td>\n",
       "      <td>A</td>\n",
       "      <td>38</td>\n",
       "      <td>PF13354</td>\n",
       "      <td>Beta-lactamase2</td>\n",
       "      <td>51</td>\n",
       "      <td>263</td>\n",
       "      <td>35</td>\n",
       "      <td>CL0013</td>\n",
       "      <td>Beta-lactamase</td>\n",
       "      <td>Q9L5C8</td>\n",
       "    </tr>\n",
       "    <tr>\n",
       "      <th>4</th>\n",
       "      <td>3pce</td>\n",
       "      <td>M</td>\n",
       "      <td>25</td>\n",
       "      <td>PF00775</td>\n",
       "      <td>Dioxygenase_C</td>\n",
       "      <td>346</td>\n",
       "      <td>529</td>\n",
       "      <td>22</td>\n",
       "      <td>CL0287</td>\n",
       "      <td>Transthyretin</td>\n",
       "      <td>P00437</td>\n",
       "    </tr>\n",
       "    <tr>\n",
       "      <th>...</th>\n",
       "      <td>...</td>\n",
       "      <td>...</td>\n",
       "      <td>...</td>\n",
       "      <td>...</td>\n",
       "      <td>...</td>\n",
       "      <td>...</td>\n",
       "      <td>...</td>\n",
       "      <td>...</td>\n",
       "      <td>...</td>\n",
       "      <td>...</td>\n",
       "      <td>...</td>\n",
       "    </tr>\n",
       "    <tr>\n",
       "      <th>5776</th>\n",
       "      <td>5bry</td>\n",
       "      <td>A</td>\n",
       "      <td>33</td>\n",
       "      <td>PF00077</td>\n",
       "      <td>RVP</td>\n",
       "      <td>5</td>\n",
       "      <td>98</td>\n",
       "      <td>33</td>\n",
       "      <td>CL0129</td>\n",
       "      <td>Peptidase_AA</td>\n",
       "      <td>P03366</td>\n",
       "    </tr>\n",
       "    <tr>\n",
       "      <th>5777</th>\n",
       "      <td>1sl3</td>\n",
       "      <td>A</td>\n",
       "      <td>56</td>\n",
       "      <td>PF00089</td>\n",
       "      <td>Trypsin</td>\n",
       "      <td>16</td>\n",
       "      <td>238</td>\n",
       "      <td>56</td>\n",
       "      <td>CL0124</td>\n",
       "      <td>Peptidase_PA</td>\n",
       "      <td>P00734</td>\n",
       "    </tr>\n",
       "    <tr>\n",
       "      <th>5778</th>\n",
       "      <td>1ctu</td>\n",
       "      <td>A</td>\n",
       "      <td>41</td>\n",
       "      <td>PF00383</td>\n",
       "      <td>dCMP_cyt_deam_1</td>\n",
       "      <td>48</td>\n",
       "      <td>142</td>\n",
       "      <td>40</td>\n",
       "      <td>CL0109</td>\n",
       "      <td>CDA</td>\n",
       "      <td>P0ABF6</td>\n",
       "    </tr>\n",
       "    <tr>\n",
       "      <th>5779</th>\n",
       "      <td>1ctu</td>\n",
       "      <td>A</td>\n",
       "      <td>41</td>\n",
       "      <td>PF08211</td>\n",
       "      <td>dCMP_cyt_deam_2</td>\n",
       "      <td>157</td>\n",
       "      <td>277</td>\n",
       "      <td>0</td>\n",
       "      <td>CL0109</td>\n",
       "      <td>CDA</td>\n",
       "      <td>P0ABF6</td>\n",
       "    </tr>\n",
       "    <tr>\n",
       "      <th>5780</th>\n",
       "      <td>6e9a</td>\n",
       "      <td>A</td>\n",
       "      <td>33</td>\n",
       "      <td>PF00077</td>\n",
       "      <td>RVP</td>\n",
       "      <td>5</td>\n",
       "      <td>98</td>\n",
       "      <td>33</td>\n",
       "      <td>CL0129</td>\n",
       "      <td>Peptidase_AA</td>\n",
       "      <td>P04585</td>\n",
       "    </tr>\n",
       "  </tbody>\n",
       "</table>\n",
       "<p>5781 rows × 11 columns</p>\n",
       "</div>"
      ],
      "text/plain": [
       "       pdb main_chain  res_num     pfam        pfam_name  pdb_start  pdb_end  \\\n",
       "0     2r58          A       25  PF02820              MBT        209      277   \n",
       "1     3c2f          A       30  PF02749        QRPTase_N         30      117   \n",
       "2     3c2f          A       30  PF01729        QRPTase_C        119      292   \n",
       "3     3g2y          A       38  PF13354  Beta-lactamase2         51      263   \n",
       "4     3pce          M       25  PF00775    Dioxygenase_C        346      529   \n",
       "...    ...        ...      ...      ...              ...        ...      ...   \n",
       "5776  5bry          A       33  PF00077              RVP          5       98   \n",
       "5777  1sl3          A       56  PF00089          Trypsin         16      238   \n",
       "5778  1ctu          A       41  PF00383  dCMP_cyt_deam_1         48      142   \n",
       "5779  1ctu          A       41  PF08211  dCMP_cyt_deam_2        157      277   \n",
       "5780  6e9a          A       33  PF00077              RVP          5       98   \n",
       "\n",
       "      cov_num clan_acc         clan_id uniport  \n",
       "0           0   CL0049           Tudor  Q9VHA0  \n",
       "1           0   CL0105          Hybrid  P43619  \n",
       "2          30   CL0036      TIM_barrel  P43619  \n",
       "3          35   CL0013  Beta-lactamase  Q9L5C8  \n",
       "4          22   CL0287   Transthyretin  P00437  \n",
       "...       ...      ...             ...     ...  \n",
       "5776       33   CL0129    Peptidase_AA  P03366  \n",
       "5777       56   CL0124    Peptidase_PA  P00734  \n",
       "5778       40   CL0109             CDA  P0ABF6  \n",
       "5779        0   CL0109             CDA  P0ABF6  \n",
       "5780       33   CL0129    Peptidase_AA  P04585  \n",
       "\n",
       "[5781 rows x 11 columns]"
      ]
     },
     "execution_count": 355,
     "metadata": {},
     "output_type": "execute_result"
    }
   ],
   "source": [
    "all_pfam_clan"
   ]
  },
  {
   "cell_type": "code",
   "execution_count": 356,
   "metadata": {},
   "outputs": [],
   "source": [
    "pdb_list = list(set(all_pfam_clan['pdb'].tolist()))"
   ]
  },
  {
   "cell_type": "code",
   "execution_count": 365,
   "metadata": {},
   "outputs": [],
   "source": [
    "main_pf=pd.DataFrame()\n",
    "for pdb in pdb_list:\n",
    "    select = all_pfam_clan[all_pfam_clan['pdb']==pdb].sort_values(by=['cov_num'], ascending=False)\n",
    "    main_pf = pd.concat([main_pf,select.head(1)])\n"
   ]
  },
  {
   "cell_type": "code",
   "execution_count": 361,
   "metadata": {},
   "outputs": [],
   "source": [
    "select = all_pfam_clan[all_pfam_clan['pdb']==\"10gs\"].sort_values(by=['cov_num'], ascending=False)"
   ]
  },
  {
   "cell_type": "code",
   "execution_count": 372,
   "metadata": {},
   "outputs": [],
   "source": [
    "main_pf.to_csv(\"/pubhome/hzhu02/Redocked_pose/split_dataset/pfam/refine/pdbbind_v2020_refine_pfame_clan.csv\", index=False)"
   ]
  },
  {
   "cell_type": "code",
   "execution_count": 368,
   "metadata": {},
   "outputs": [],
   "source": [
    "pocket_chain = pd.read_csv(\"/pubhome/hzhu02/Redocked_pose/split_dataset/pfam/refine/pdbbind_v2020_refine_all_pocket_chain_info.csv\", sep=\",\")\n",
    "pdb_list = list(set(pocket_chain['pdb'].tolist()))"
   ]
  },
  {
   "cell_type": "code",
   "execution_count": 369,
   "metadata": {},
   "outputs": [
    {
     "data": {
      "text/plain": [
       "5316"
      ]
     },
     "execution_count": 369,
     "metadata": {},
     "output_type": "execute_result"
    }
   ],
   "source": [
    "len(pdb_list)"
   ]
  },
  {
   "cell_type": "code",
   "execution_count": 370,
   "metadata": {},
   "outputs": [],
   "source": [
    "main_chain=pd.DataFrame()\n",
    "for pdb in pdb_list:\n",
    "    select = pocket_chain[pocket_chain['pdb']==pdb].sort_values(by=['atom_num'], ascending=False)\n",
    "    main_chain = pd.concat([main_chain,select.head(1)])\n"
   ]
  },
  {
   "cell_type": "code",
   "execution_count": 373,
   "metadata": {},
   "outputs": [],
   "source": [
    "main_chain.to_csv(\"/pubhome/hzhu02/Redocked_pose/split_dataset/pfam/refine/pdbbind_v2020_refine_pocket_main_chain.csv\", index=False)"
   ]
  },
  {
   "cell_type": "code",
   "execution_count": 381,
   "metadata": {},
   "outputs": [
    {
     "data": {
      "text/plain": [
       "'1b58'"
      ]
     },
     "execution_count": 381,
     "metadata": {},
     "output_type": "execute_result"
    }
   ],
   "source": [
    "pdb_list[-1]"
   ]
  },
  {
   "cell_type": "code",
   "execution_count": 400,
   "metadata": {},
   "outputs": [],
   "source": [
    "uniport_id = pd.read_csv(\"/pubhome/hzhu02/GPSF/dataset/INDEX/split/pdb_chain_cath_uniprot.csv\")"
   ]
  },
  {
   "cell_type": "code",
   "execution_count": 402,
   "metadata": {},
   "outputs": [
    {
     "data": {
      "text/plain": [
       "2651"
      ]
     },
     "execution_count": 402,
     "metadata": {},
     "output_type": "execute_result"
    }
   ],
   "source": [
    "len(pdb_list)"
   ]
  },
  {
   "cell_type": "code",
   "execution_count": null,
   "metadata": {},
   "outputs": [],
   "source": [
    "uniport_id_all = []\n",
    "for pdb in pdb_list:\n",
    "    print(pdb)\n",
    "    chain = main_chain[main_chain['pdb']==pdb][\"chain\"].tolist()[0]\n",
    "    uni_id = uniport_id[(uniport_id['PDB']==pdb) &(uniport_id['CHAIN']==chain)]['SP_PRIMARY'].tolist()\n",
    "    if len(uni_id) >0:\n",
    "        uniport_id_all.append(uni_id[0])\n",
    "    else:\n",
    "        uniport_id_all.append('None')\n",
    "    "
   ]
  },
  {
   "cell_type": "code",
   "execution_count": 404,
   "metadata": {},
   "outputs": [
    {
     "data": {
      "text/plain": [
       "2651"
      ]
     },
     "execution_count": 404,
     "metadata": {},
     "output_type": "execute_result"
    }
   ],
   "source": [
    "len(uniport_id_all)"
   ]
  },
  {
   "cell_type": "code",
   "execution_count": null,
   "metadata": {},
   "outputs": [],
   "source": [
    "uniport_id_all"
   ]
  },
  {
   "cell_type": "code",
   "execution_count": 397,
   "metadata": {},
   "outputs": [],
   "source": [
    "main_chain['uniport'] = uniport_id_all"
   ]
  },
  {
   "cell_type": "code",
   "execution_count": 408,
   "metadata": {},
   "outputs": [],
   "source": [
    "main_chain[main_chain['uniport']=='None']['uniport'].replace(uniport_id_all, inplace=True)"
   ]
  },
  {
   "cell_type": "code",
   "execution_count": 410,
   "metadata": {},
   "outputs": [],
   "source": [
    "sub = main_chain[main_chain['uniport']=='None']"
   ]
  },
  {
   "cell_type": "code",
   "execution_count": 415,
   "metadata": {},
   "outputs": [],
   "source": [
    "sub2 = main_chain[main_chain['uniport']!= 'None']"
   ]
  },
  {
   "cell_type": "code",
   "execution_count": null,
   "metadata": {},
   "outputs": [],
   "source": [
    "sub['uniport_2']=uniport_id_all"
   ]
  },
  {
   "cell_type": "code",
   "execution_count": 423,
   "metadata": {},
   "outputs": [],
   "source": [
    "sub = sub.rename(columns={'uniport_2':'uniport'})"
   ]
  },
  {
   "cell_type": "code",
   "execution_count": 426,
   "metadata": {},
   "outputs": [],
   "source": [
    "main_chain = sub2.append(sub)"
   ]
  },
  {
   "cell_type": "code",
   "execution_count": 450,
   "metadata": {},
   "outputs": [
    {
     "data": {
      "text/plain": [
       "186"
      ]
     },
     "execution_count": 450,
     "metadata": {},
     "output_type": "execute_result"
    }
   ],
   "source": [
    "len(main_chain[main_chain['uniport']=='None']['pdb'].tolist())"
   ]
  },
  {
   "cell_type": "code",
   "execution_count": 429,
   "metadata": {},
   "outputs": [],
   "source": [
    "file_3_mapping = pd.read_csv(\"/pubhome/hzhu02/GPSF/dataset/INDEX/split/pdb_pfam_mapping.csv\")"
   ]
  },
  {
   "cell_type": "code",
   "execution_count": 432,
   "metadata": {},
   "outputs": [
    {
     "data": {
      "text/plain": [
       "(5316, 6)"
      ]
     },
     "execution_count": 432,
     "metadata": {},
     "output_type": "execute_result"
    }
   ],
   "source": [
    "main_chain.shape"
   ]
  },
  {
   "cell_type": "code",
   "execution_count": null,
   "metadata": {},
   "outputs": [],
   "source": [
    "file_3_mapping_all = []\n",
    "for pdb in pdb_list_3:\n",
    "    print(pdb)\n",
    "    chain = main_chain[main_chain['pdb']==pdb][\"chain\"].tolist()[0]\n",
    "    uni_id = file_3_mapping[(file_3_mapping['PDB']==pdb) &(file_3_mapping['CHAIN']==chain)]['UNIPROT_ACCESSION'].tolist()\n",
    "    if len(uni_id) >0:\n",
    "        file_3_mapping_all.append(uni_id[0])\n",
    "    else:\n",
    "        file_3_mapping_all.append('None')"
   ]
  },
  {
   "cell_type": "code",
   "execution_count": 437,
   "metadata": {},
   "outputs": [],
   "source": [
    "sub3_1 = main_chain[main_chain['uniport']=='None']"
   ]
  },
  {
   "cell_type": "code",
   "execution_count": 438,
   "metadata": {},
   "outputs": [],
   "source": [
    "sub3_2 = main_chain[main_chain['uniport']!='None']"
   ]
  },
  {
   "cell_type": "code",
   "execution_count": 439,
   "metadata": {},
   "outputs": [
    {
     "name": "stderr",
     "output_type": "stream",
     "text": [
      "/pubhome/hzhu02/miniconda3/envs/potentialnet/lib/python3.6/site-packages/ipykernel_launcher.py:1: SettingWithCopyWarning: \n",
      "A value is trying to be set on a copy of a slice from a DataFrame.\n",
      "Try using .loc[row_indexer,col_indexer] = value instead\n",
      "\n",
      "See the caveats in the documentation: https://pandas.pydata.org/pandas-docs/stable/user_guide/indexing.html#returning-a-view-versus-a-copy\n",
      "  \"\"\"Entry point for launching an IPython kernel.\n"
     ]
    }
   ],
   "source": [
    "sub3_1['uniport_2'] = file_3_mapping_all"
   ]
  },
  {
   "cell_type": "code",
   "execution_count": 448,
   "metadata": {},
   "outputs": [],
   "source": [
    "\n",
    "sub3_1 = sub3_1.rename(columns={'uniport_2':'uniport'})\n",
    "main_chain = sub3_2.append(sub3_1)\n"
   ]
  },
  {
   "cell_type": "code",
   "execution_count": null,
   "metadata": {},
   "outputs": [],
   "source": [
    "main_chain[(main_chain['chain']!='A')&(main_chain['chain']!='B')&(main_chain['uniport']=='None')]"
   ]
  },
  {
   "cell_type": "code",
   "execution_count": 455,
   "metadata": {},
   "outputs": [],
   "source": [
    "import urllib.request\n",
    "import json"
   ]
  },
  {
   "cell_type": "code",
   "execution_count": 493,
   "metadata": {},
   "outputs": [],
   "source": [
    "a = urllib.request.urlopen(f\"https://data.rcsb.org/rest/v1/core/polymer_entity/\"+\"5efc\"+\"/1\").read()"
   ]
  },
  {
   "cell_type": "code",
   "execution_count": 497,
   "metadata": {},
   "outputs": [],
   "source": [
    "b = json.loads(a)\n",
    "suffix = b['rcsb_polymer_entity_container_identifiers']\n"
   ]
  },
  {
   "cell_type": "code",
   "execution_count": 496,
   "metadata": {},
   "outputs": [
    {
     "data": {
      "text/plain": [
       "True"
      ]
     },
     "execution_count": 496,
     "metadata": {},
     "output_type": "execute_result"
    }
   ],
   "source": [
    "'5efc' in pdb_4_list"
   ]
  },
  {
   "cell_type": "code",
   "execution_count": 498,
   "metadata": {},
   "outputs": [
    {
     "data": {
      "text/plain": [
       "False"
      ]
     },
     "execution_count": 498,
     "metadata": {},
     "output_type": "execute_result"
    }
   ],
   "source": [
    "'uniprot_id' in suffix.keys()"
   ]
  },
  {
   "cell_type": "code",
   "execution_count": null,
   "metadata": {},
   "outputs": [],
   "source": [
    "pdb_4_map =[]\n",
    "multi=[]\n",
    "not_found = []\n",
    "for pdb in pdb_4_list:\n",
    "    print(pdb)\n",
    "    a = urllib.request.urlopen(f\"https://data.rcsb.org/rest/v1/core/polymer_entity/\"+pdb+\"/1\").read()\n",
    "    b = json.loads(a)\n",
    "    suffix = b['rcsb_polymer_entity_container_identifiers']\n",
    "    if 'uniprot_ids' in suffix.keys():\n",
    "        ids = suffix['uniprot_ids']\n",
    "        pdb_4_map.append(ids[0])\n",
    "        if len(ids)>0:\n",
    "            multi.append([pdb, ids])\n",
    "    else:\n",
    "        pdb_4_map.append('None')\n",
    "    "
   ]
  },
  {
   "cell_type": "code",
   "execution_count": 517,
   "metadata": {},
   "outputs": [
    {
     "name": "stdout",
     "output_type": "stream",
     "text": [
      "['4nja', ['P01660', 'Q52L95']]\n"
     ]
    }
   ],
   "source": [
    "for i in range(len(multi)):\n",
    "    if len(multi[i][1]) >1:\n",
    "        print(multi[i])"
   ]
  },
  {
   "cell_type": "code",
   "execution_count": 500,
   "metadata": {},
   "outputs": [],
   "source": [
    "sub_1 = main_chain[main_chain['uniport']=='None']\n",
    "sub_2 = main_chain[main_chain['uniport']!= 'None']\n"
   ]
  },
  {
   "cell_type": "code",
   "execution_count": 501,
   "metadata": {},
   "outputs": [
    {
     "name": "stderr",
     "output_type": "stream",
     "text": [
      "/pubhome/hzhu02/miniconda3/envs/potentialnet/lib/python3.6/site-packages/ipykernel_launcher.py:1: SettingWithCopyWarning: \n",
      "A value is trying to be set on a copy of a slice from a DataFrame.\n",
      "Try using .loc[row_indexer,col_indexer] = value instead\n",
      "\n",
      "See the caveats in the documentation: https://pandas.pydata.org/pandas-docs/stable/user_guide/indexing.html#returning-a-view-versus-a-copy\n",
      "  \"\"\"Entry point for launching an IPython kernel.\n"
     ]
    }
   ],
   "source": [
    "sub_1['uniport_2']=pdb_4_map"
   ]
  },
  {
   "cell_type": "code",
   "execution_count": null,
   "metadata": {},
   "outputs": [],
   "source": [
    "sub_1[sub_1['uniport_2']!='None']"
   ]
  },
  {
   "cell_type": "code",
   "execution_count": 504,
   "metadata": {},
   "outputs": [],
   "source": [
    "sub_1=sub_1.drop(columns=['uniport'])"
   ]
  },
  {
   "cell_type": "code",
   "execution_count": 505,
   "metadata": {},
   "outputs": [],
   "source": [
    "sub_1 = sub_1.rename(columns={'uniport_2':'uniport'})"
   ]
  },
  {
   "cell_type": "code",
   "execution_count": 506,
   "metadata": {},
   "outputs": [],
   "source": [
    "main_chain = sub_2.append(sub_1)"
   ]
  },
  {
   "cell_type": "code",
   "execution_count": 507,
   "metadata": {},
   "outputs": [
    {
     "data": {
      "text/html": [
       "<div>\n",
       "<style scoped>\n",
       "    .dataframe tbody tr th:only-of-type {\n",
       "        vertical-align: middle;\n",
       "    }\n",
       "\n",
       "    .dataframe tbody tr th {\n",
       "        vertical-align: top;\n",
       "    }\n",
       "\n",
       "    .dataframe thead th {\n",
       "        text-align: right;\n",
       "    }\n",
       "</style>\n",
       "<table border=\"1\" class=\"dataframe\">\n",
       "  <thead>\n",
       "    <tr style=\"text-align: right;\">\n",
       "      <th></th>\n",
       "      <th>pdb</th>\n",
       "      <th>chain</th>\n",
       "      <th>atom_num</th>\n",
       "      <th>res_num</th>\n",
       "      <th>res_uniq_list</th>\n",
       "      <th>uniport</th>\n",
       "    </tr>\n",
       "  </thead>\n",
       "  <tbody>\n",
       "    <tr>\n",
       "      <th>3737</th>\n",
       "      <td>6idg</td>\n",
       "      <td>H</td>\n",
       "      <td>236</td>\n",
       "      <td>21</td>\n",
       "      <td>[31, 32, 33, 34, 35, 47, 49, 50, 51, 52, 56, 5...</td>\n",
       "      <td>None</td>\n",
       "    </tr>\n",
       "    <tr>\n",
       "      <th>3964</th>\n",
       "      <td>1qyg</td>\n",
       "      <td>H</td>\n",
       "      <td>232</td>\n",
       "      <td>22</td>\n",
       "      <td>[27, 28, 29, 30, 31, 32, 33, 34, 35, 50, 51, 5...</td>\n",
       "      <td>None</td>\n",
       "    </tr>\n",
       "    <tr>\n",
       "      <th>619</th>\n",
       "      <td>6cfc</td>\n",
       "      <td>A</td>\n",
       "      <td>430</td>\n",
       "      <td>44</td>\n",
       "      <td>[386, 389, 390, 398, 399, 400, 401, 402, 403, ...</td>\n",
       "      <td>None</td>\n",
       "    </tr>\n",
       "    <tr>\n",
       "      <th>1956</th>\n",
       "      <td>5ufc</td>\n",
       "      <td>A</td>\n",
       "      <td>424</td>\n",
       "      <td>43</td>\n",
       "      <td>[132, 133, 134, 135, 136, 137, 155, 156, 157, ...</td>\n",
       "      <td>None</td>\n",
       "    </tr>\n",
       "    <tr>\n",
       "      <th>6785</th>\n",
       "      <td>4jn2</td>\n",
       "      <td>B</td>\n",
       "      <td>262</td>\n",
       "      <td>28</td>\n",
       "      <td>[33, 34, 35, 36, 37, 48, 50, 51, 52, 53, 54, 5...</td>\n",
       "      <td>None</td>\n",
       "    </tr>\n",
       "    <tr>\n",
       "      <th>...</th>\n",
       "      <td>...</td>\n",
       "      <td>...</td>\n",
       "      <td>...</td>\n",
       "      <td>...</td>\n",
       "      <td>...</td>\n",
       "      <td>...</td>\n",
       "    </tr>\n",
       "    <tr>\n",
       "      <th>6656</th>\n",
       "      <td>4yho</td>\n",
       "      <td>H</td>\n",
       "      <td>317</td>\n",
       "      <td>30</td>\n",
       "      <td>[28, 29, 30, 31, 32, 33, 34, 35, 47, 50, 51, 5...</td>\n",
       "      <td>None</td>\n",
       "    </tr>\n",
       "    <tr>\n",
       "      <th>4320</th>\n",
       "      <td>4c1t</td>\n",
       "      <td>A</td>\n",
       "      <td>717</td>\n",
       "      <td>76</td>\n",
       "      <td>[384, 385, 386, 387, 388, 383, 391, 394, 395, ...</td>\n",
       "      <td>None</td>\n",
       "    </tr>\n",
       "    <tr>\n",
       "      <th>6520</th>\n",
       "      <td>4f3k</td>\n",
       "      <td>A</td>\n",
       "      <td>423</td>\n",
       "      <td>52</td>\n",
       "      <td>[7, 8, 9, 11, 12, 146, 147, 148, 149, 150, 151...</td>\n",
       "      <td>None</td>\n",
       "    </tr>\n",
       "    <tr>\n",
       "      <th>2122</th>\n",
       "      <td>1mfd</td>\n",
       "      <td>H</td>\n",
       "      <td>206</td>\n",
       "      <td>21</td>\n",
       "      <td>[282, 283, 284, 285, 297, 299, 300, 301, 302, ...</td>\n",
       "      <td>None</td>\n",
       "    </tr>\n",
       "    <tr>\n",
       "      <th>2368</th>\n",
       "      <td>3hzm</td>\n",
       "      <td>A</td>\n",
       "      <td>145</td>\n",
       "      <td>12</td>\n",
       "      <td>[32, 2, 92, 50, 94, 89, 90, 91, 28, 93, 30, 95]</td>\n",
       "      <td>None</td>\n",
       "    </tr>\n",
       "  </tbody>\n",
       "</table>\n",
       "<p>95 rows × 6 columns</p>\n",
       "</div>"
      ],
      "text/plain": [
       "       pdb chain  atom_num  res_num  \\\n",
       "3737  6idg     H       236       21   \n",
       "3964  1qyg     H       232       22   \n",
       "619   6cfc     A       430       44   \n",
       "1956  5ufc     A       424       43   \n",
       "6785  4jn2     B       262       28   \n",
       "...    ...   ...       ...      ...   \n",
       "6656  4yho     H       317       30   \n",
       "4320  4c1t     A       717       76   \n",
       "6520  4f3k     A       423       52   \n",
       "2122  1mfd     H       206       21   \n",
       "2368  3hzm     A       145       12   \n",
       "\n",
       "                                          res_uniq_list uniport  \n",
       "3737  [31, 32, 33, 34, 35, 47, 49, 50, 51, 52, 56, 5...    None  \n",
       "3964  [27, 28, 29, 30, 31, 32, 33, 34, 35, 50, 51, 5...    None  \n",
       "619   [386, 389, 390, 398, 399, 400, 401, 402, 403, ...    None  \n",
       "1956  [132, 133, 134, 135, 136, 137, 155, 156, 157, ...    None  \n",
       "6785  [33, 34, 35, 36, 37, 48, 50, 51, 52, 53, 54, 5...    None  \n",
       "...                                                 ...     ...  \n",
       "6656  [28, 29, 30, 31, 32, 33, 34, 35, 47, 50, 51, 5...    None  \n",
       "4320  [384, 385, 386, 387, 388, 383, 391, 394, 395, ...    None  \n",
       "6520  [7, 8, 9, 11, 12, 146, 147, 148, 149, 150, 151...    None  \n",
       "2122  [282, 283, 284, 285, 297, 299, 300, 301, 302, ...    None  \n",
       "2368    [32, 2, 92, 50, 94, 89, 90, 91, 28, 93, 30, 95]    None  \n",
       "\n",
       "[95 rows x 6 columns]"
      ]
     },
     "execution_count": 507,
     "metadata": {},
     "output_type": "execute_result"
    }
   ],
   "source": [
    "main_chain[main_chain['uniport']=='None']"
   ]
  },
  {
   "cell_type": "code",
   "execution_count": 508,
   "metadata": {},
   "outputs": [],
   "source": [
    "main_chain.to_csv(\"/pubhome/hzhu02/Redocked_pose/split_dataset/pharos/pdbbind_v2020_main_chain_uniprot.csv\", index=False)"
   ]
  },
  {
   "cell_type": "code",
   "execution_count": 513,
   "metadata": {},
   "outputs": [],
   "source": [
    "main_chain=main_chain.rename(columns={'uniport':\"UNIPROT_ACCESSION\"})"
   ]
  },
  {
   "cell_type": "code",
   "execution_count": 522,
   "metadata": {},
   "outputs": [],
   "source": [
    "merge = pd.merge(main_chain, nuport_pharos, on=['UNIPROT_ACCESSION'])\n",
    "merge[['pdb','chain','atom_num','res_num','res_uniq_list','UNIPROT_ACCESSION','Family','Name']].to_csv(\"/pubhome/hzhu02/Redocked_pose/split_dataset/pharos/pdbbind_v2020_matched_pharos.csv\", index=False)"
   ]
  },
  {
   "cell_type": "code",
   "execution_count": 6,
   "metadata": {},
   "outputs": [],
   "source": [
    "protein_dist = pd.read_csv(\"/pubhome/hzhu02/Redocked_pose/split_dataset/3_fold_ccv/protein_smi_only_main_chain_pdbbind_2020.csv\")\n",
    "pdb_list = protein_dist.columns.tolist()"
   ]
  },
  {
   "cell_type": "code",
   "execution_count": 8,
   "metadata": {},
   "outputs": [
    {
     "data": {
      "text/html": [
       "<div>\n",
       "<style scoped>\n",
       "    .dataframe tbody tr th:only-of-type {\n",
       "        vertical-align: middle;\n",
       "    }\n",
       "\n",
       "    .dataframe tbody tr th {\n",
       "        vertical-align: top;\n",
       "    }\n",
       "\n",
       "    .dataframe thead th {\n",
       "        text-align: right;\n",
       "    }\n",
       "</style>\n",
       "<table border=\"1\" class=\"dataframe\">\n",
       "  <thead>\n",
       "    <tr style=\"text-align: right;\">\n",
       "      <th></th>\n",
       "      <th>2p95</th>\n",
       "      <th>3t1m</th>\n",
       "      <th>4ceb</th>\n",
       "      <th>1x8r</th>\n",
       "      <th>3rtf</th>\n",
       "      <th>2v7a</th>\n",
       "      <th>4zzy</th>\n",
       "      <th>1b5h</th>\n",
       "      <th>2aac</th>\n",
       "      <th>6md6</th>\n",
       "      <th>...</th>\n",
       "      <th>6nw3</th>\n",
       "      <th>5efc</th>\n",
       "      <th>1cgl</th>\n",
       "      <th>2a5c</th>\n",
       "      <th>1hpo</th>\n",
       "      <th>2hb3</th>\n",
       "      <th>1v2n</th>\n",
       "      <th>3t0d</th>\n",
       "      <th>5o1d</th>\n",
       "      <th>1b58</th>\n",
       "    </tr>\n",
       "  </thead>\n",
       "  <tbody>\n",
       "    <tr>\n",
       "      <th>0</th>\n",
       "      <td>0.000000</td>\n",
       "      <td>0.735043</td>\n",
       "      <td>0.713675</td>\n",
       "      <td>0.740047</td>\n",
       "      <td>0.647287</td>\n",
       "      <td>0.678967</td>\n",
       "      <td>0.709402</td>\n",
       "      <td>0.767892</td>\n",
       "      <td>0.696581</td>\n",
       "      <td>0.781457</td>\n",
       "      <td>...</td>\n",
       "      <td>0.716216</td>\n",
       "      <td>0.696581</td>\n",
       "      <td>0.696581</td>\n",
       "      <td>0.739316</td>\n",
       "      <td>0.782051</td>\n",
       "      <td>0.782051</td>\n",
       "      <td>0.508547</td>\n",
       "      <td>0.840394</td>\n",
       "      <td>0.679487</td>\n",
       "      <td>0.767892</td>\n",
       "    </tr>\n",
       "    <tr>\n",
       "      <th>1</th>\n",
       "      <td>0.735043</td>\n",
       "      <td>0.000000</td>\n",
       "      <td>0.644295</td>\n",
       "      <td>0.798595</td>\n",
       "      <td>0.751938</td>\n",
       "      <td>0.763838</td>\n",
       "      <td>0.794872</td>\n",
       "      <td>0.825919</td>\n",
       "      <td>0.668712</td>\n",
       "      <td>0.841060</td>\n",
       "      <td>...</td>\n",
       "      <td>0.794595</td>\n",
       "      <td>0.680982</td>\n",
       "      <td>0.690476</td>\n",
       "      <td>0.664234</td>\n",
       "      <td>0.708029</td>\n",
       "      <td>0.700730</td>\n",
       "      <td>0.730942</td>\n",
       "      <td>0.890640</td>\n",
       "      <td>0.720812</td>\n",
       "      <td>0.825919</td>\n",
       "    </tr>\n",
       "    <tr>\n",
       "      <th>2</th>\n",
       "      <td>0.713675</td>\n",
       "      <td>0.644295</td>\n",
       "      <td>0.000000</td>\n",
       "      <td>0.786885</td>\n",
       "      <td>0.748062</td>\n",
       "      <td>0.726937</td>\n",
       "      <td>0.772080</td>\n",
       "      <td>0.814313</td>\n",
       "      <td>0.662577</td>\n",
       "      <td>0.839404</td>\n",
       "      <td>...</td>\n",
       "      <td>0.783784</td>\n",
       "      <td>0.668712</td>\n",
       "      <td>0.660714</td>\n",
       "      <td>0.657718</td>\n",
       "      <td>0.697987</td>\n",
       "      <td>0.697987</td>\n",
       "      <td>0.721973</td>\n",
       "      <td>0.882759</td>\n",
       "      <td>0.690355</td>\n",
       "      <td>0.814313</td>\n",
       "    </tr>\n",
       "    <tr>\n",
       "      <th>3</th>\n",
       "      <td>0.740047</td>\n",
       "      <td>0.798595</td>\n",
       "      <td>0.786885</td>\n",
       "      <td>0.000000</td>\n",
       "      <td>0.723653</td>\n",
       "      <td>0.711944</td>\n",
       "      <td>0.674473</td>\n",
       "      <td>0.663443</td>\n",
       "      <td>0.782201</td>\n",
       "      <td>0.688742</td>\n",
       "      <td>...</td>\n",
       "      <td>0.662763</td>\n",
       "      <td>0.782201</td>\n",
       "      <td>0.784543</td>\n",
       "      <td>0.814988</td>\n",
       "      <td>0.833724</td>\n",
       "      <td>0.833724</td>\n",
       "      <td>0.756440</td>\n",
       "      <td>0.766502</td>\n",
       "      <td>0.761124</td>\n",
       "      <td>0.663443</td>\n",
       "    </tr>\n",
       "    <tr>\n",
       "      <th>4</th>\n",
       "      <td>0.647287</td>\n",
       "      <td>0.751938</td>\n",
       "      <td>0.748062</td>\n",
       "      <td>0.723653</td>\n",
       "      <td>0.000000</td>\n",
       "      <td>0.649446</td>\n",
       "      <td>0.686610</td>\n",
       "      <td>0.746615</td>\n",
       "      <td>0.713178</td>\n",
       "      <td>0.758278</td>\n",
       "      <td>...</td>\n",
       "      <td>0.700000</td>\n",
       "      <td>0.713178</td>\n",
       "      <td>0.720930</td>\n",
       "      <td>0.763566</td>\n",
       "      <td>0.786822</td>\n",
       "      <td>0.782946</td>\n",
       "      <td>0.658915</td>\n",
       "      <td>0.834483</td>\n",
       "      <td>0.713178</td>\n",
       "      <td>0.746615</td>\n",
       "    </tr>\n",
       "    <tr>\n",
       "      <th>...</th>\n",
       "      <td>...</td>\n",
       "      <td>...</td>\n",
       "      <td>...</td>\n",
       "      <td>...</td>\n",
       "      <td>...</td>\n",
       "      <td>...</td>\n",
       "      <td>...</td>\n",
       "      <td>...</td>\n",
       "      <td>...</td>\n",
       "      <td>...</td>\n",
       "      <td>...</td>\n",
       "      <td>...</td>\n",
       "      <td>...</td>\n",
       "      <td>...</td>\n",
       "      <td>...</td>\n",
       "      <td>...</td>\n",
       "      <td>...</td>\n",
       "      <td>...</td>\n",
       "      <td>...</td>\n",
       "      <td>...</td>\n",
       "      <td>...</td>\n",
       "    </tr>\n",
       "    <tr>\n",
       "      <th>5311</th>\n",
       "      <td>0.782051</td>\n",
       "      <td>0.700730</td>\n",
       "      <td>0.697987</td>\n",
       "      <td>0.833724</td>\n",
       "      <td>0.782946</td>\n",
       "      <td>0.800738</td>\n",
       "      <td>0.823362</td>\n",
       "      <td>0.864603</td>\n",
       "      <td>0.730061</td>\n",
       "      <td>0.869205</td>\n",
       "      <td>...</td>\n",
       "      <td>0.829730</td>\n",
       "      <td>0.723926</td>\n",
       "      <td>0.726190</td>\n",
       "      <td>0.682927</td>\n",
       "      <td>0.020202</td>\n",
       "      <td>0.000000</td>\n",
       "      <td>0.784753</td>\n",
       "      <td>0.913300</td>\n",
       "      <td>0.766497</td>\n",
       "      <td>0.864603</td>\n",
       "    </tr>\n",
       "    <tr>\n",
       "      <th>5312</th>\n",
       "      <td>0.508547</td>\n",
       "      <td>0.730942</td>\n",
       "      <td>0.721973</td>\n",
       "      <td>0.756440</td>\n",
       "      <td>0.658915</td>\n",
       "      <td>0.678967</td>\n",
       "      <td>0.715100</td>\n",
       "      <td>0.771760</td>\n",
       "      <td>0.721973</td>\n",
       "      <td>0.786424</td>\n",
       "      <td>...</td>\n",
       "      <td>0.727027</td>\n",
       "      <td>0.717489</td>\n",
       "      <td>0.704036</td>\n",
       "      <td>0.757848</td>\n",
       "      <td>0.789238</td>\n",
       "      <td>0.784753</td>\n",
       "      <td>0.000000</td>\n",
       "      <td>0.844335</td>\n",
       "      <td>0.686099</td>\n",
       "      <td>0.771760</td>\n",
       "    </tr>\n",
       "    <tr>\n",
       "      <th>5313</th>\n",
       "      <td>0.840394</td>\n",
       "      <td>0.890640</td>\n",
       "      <td>0.882759</td>\n",
       "      <td>0.766502</td>\n",
       "      <td>0.834483</td>\n",
       "      <td>0.829557</td>\n",
       "      <td>0.794089</td>\n",
       "      <td>0.743842</td>\n",
       "      <td>0.868966</td>\n",
       "      <td>0.712315</td>\n",
       "      <td>...</td>\n",
       "      <td>0.790148</td>\n",
       "      <td>0.881773</td>\n",
       "      <td>0.869951</td>\n",
       "      <td>0.899507</td>\n",
       "      <td>0.913300</td>\n",
       "      <td>0.913300</td>\n",
       "      <td>0.844335</td>\n",
       "      <td>0.000000</td>\n",
       "      <td>0.861084</td>\n",
       "      <td>0.743842</td>\n",
       "    </tr>\n",
       "    <tr>\n",
       "      <th>5314</th>\n",
       "      <td>0.679487</td>\n",
       "      <td>0.720812</td>\n",
       "      <td>0.690355</td>\n",
       "      <td>0.761124</td>\n",
       "      <td>0.713178</td>\n",
       "      <td>0.708487</td>\n",
       "      <td>0.743590</td>\n",
       "      <td>0.789168</td>\n",
       "      <td>0.695431</td>\n",
       "      <td>0.814570</td>\n",
       "      <td>...</td>\n",
       "      <td>0.745946</td>\n",
       "      <td>0.705584</td>\n",
       "      <td>0.670051</td>\n",
       "      <td>0.736041</td>\n",
       "      <td>0.766497</td>\n",
       "      <td>0.766497</td>\n",
       "      <td>0.686099</td>\n",
       "      <td>0.861084</td>\n",
       "      <td>0.000000</td>\n",
       "      <td>0.789168</td>\n",
       "    </tr>\n",
       "    <tr>\n",
       "      <th>5315</th>\n",
       "      <td>0.767892</td>\n",
       "      <td>0.825919</td>\n",
       "      <td>0.814313</td>\n",
       "      <td>0.663443</td>\n",
       "      <td>0.746615</td>\n",
       "      <td>0.758221</td>\n",
       "      <td>0.702128</td>\n",
       "      <td>0.000000</td>\n",
       "      <td>0.818182</td>\n",
       "      <td>0.642384</td>\n",
       "      <td>...</td>\n",
       "      <td>0.696325</td>\n",
       "      <td>0.810445</td>\n",
       "      <td>0.804642</td>\n",
       "      <td>0.839458</td>\n",
       "      <td>0.864603</td>\n",
       "      <td>0.864603</td>\n",
       "      <td>0.771760</td>\n",
       "      <td>0.743842</td>\n",
       "      <td>0.789168</td>\n",
       "      <td>0.000000</td>\n",
       "    </tr>\n",
       "  </tbody>\n",
       "</table>\n",
       "<p>5316 rows × 5316 columns</p>\n",
       "</div>"
      ],
      "text/plain": [
       "          2p95      3t1m      4ceb      1x8r      3rtf      2v7a      4zzy  \\\n",
       "0     0.000000  0.735043  0.713675  0.740047  0.647287  0.678967  0.709402   \n",
       "1     0.735043  0.000000  0.644295  0.798595  0.751938  0.763838  0.794872   \n",
       "2     0.713675  0.644295  0.000000  0.786885  0.748062  0.726937  0.772080   \n",
       "3     0.740047  0.798595  0.786885  0.000000  0.723653  0.711944  0.674473   \n",
       "4     0.647287  0.751938  0.748062  0.723653  0.000000  0.649446  0.686610   \n",
       "...        ...       ...       ...       ...       ...       ...       ...   \n",
       "5311  0.782051  0.700730  0.697987  0.833724  0.782946  0.800738  0.823362   \n",
       "5312  0.508547  0.730942  0.721973  0.756440  0.658915  0.678967  0.715100   \n",
       "5313  0.840394  0.890640  0.882759  0.766502  0.834483  0.829557  0.794089   \n",
       "5314  0.679487  0.720812  0.690355  0.761124  0.713178  0.708487  0.743590   \n",
       "5315  0.767892  0.825919  0.814313  0.663443  0.746615  0.758221  0.702128   \n",
       "\n",
       "          1b5h      2aac      6md6  ...      6nw3      5efc      1cgl  \\\n",
       "0     0.767892  0.696581  0.781457  ...  0.716216  0.696581  0.696581   \n",
       "1     0.825919  0.668712  0.841060  ...  0.794595  0.680982  0.690476   \n",
       "2     0.814313  0.662577  0.839404  ...  0.783784  0.668712  0.660714   \n",
       "3     0.663443  0.782201  0.688742  ...  0.662763  0.782201  0.784543   \n",
       "4     0.746615  0.713178  0.758278  ...  0.700000  0.713178  0.720930   \n",
       "...        ...       ...       ...  ...       ...       ...       ...   \n",
       "5311  0.864603  0.730061  0.869205  ...  0.829730  0.723926  0.726190   \n",
       "5312  0.771760  0.721973  0.786424  ...  0.727027  0.717489  0.704036   \n",
       "5313  0.743842  0.868966  0.712315  ...  0.790148  0.881773  0.869951   \n",
       "5314  0.789168  0.695431  0.814570  ...  0.745946  0.705584  0.670051   \n",
       "5315  0.000000  0.818182  0.642384  ...  0.696325  0.810445  0.804642   \n",
       "\n",
       "          2a5c      1hpo      2hb3      1v2n      3t0d      5o1d      1b58  \n",
       "0     0.739316  0.782051  0.782051  0.508547  0.840394  0.679487  0.767892  \n",
       "1     0.664234  0.708029  0.700730  0.730942  0.890640  0.720812  0.825919  \n",
       "2     0.657718  0.697987  0.697987  0.721973  0.882759  0.690355  0.814313  \n",
       "3     0.814988  0.833724  0.833724  0.756440  0.766502  0.761124  0.663443  \n",
       "4     0.763566  0.786822  0.782946  0.658915  0.834483  0.713178  0.746615  \n",
       "...        ...       ...       ...       ...       ...       ...       ...  \n",
       "5311  0.682927  0.020202  0.000000  0.784753  0.913300  0.766497  0.864603  \n",
       "5312  0.757848  0.789238  0.784753  0.000000  0.844335  0.686099  0.771760  \n",
       "5313  0.899507  0.913300  0.913300  0.844335  0.000000  0.861084  0.743842  \n",
       "5314  0.736041  0.766497  0.766497  0.686099  0.861084  0.000000  0.789168  \n",
       "5315  0.839458  0.864603  0.864603  0.771760  0.743842  0.789168  0.000000  \n",
       "\n",
       "[5316 rows x 5316 columns]"
      ]
     },
     "execution_count": 8,
     "metadata": {},
     "output_type": "execute_result"
    }
   ],
   "source": [
    "protein_dist.drop(columns=['Unnamed: 0'])"
   ]
  }
 ],
 "metadata": {
  "interpreter": {
   "hash": "c33aab12e7bddd20363cdb16e2ea6c0a614a78e397599d7682dcd3ae4658f132"
  },
  "kernelspec": {
   "display_name": "Python 3.6.12 64-bit ('potentialnet': conda)",
   "name": "python3"
  },
  "language_info": {
   "codemirror_mode": {
    "name": "ipython",
    "version": 3
   },
   "file_extension": ".py",
   "mimetype": "text/x-python",
   "name": "python",
   "nbconvert_exporter": "python",
   "pygments_lexer": "ipython3",
   "version": "3.6.12"
  },
  "orig_nbformat": 4
 },
 "nbformat": 4,
 "nbformat_minor": 2
}
